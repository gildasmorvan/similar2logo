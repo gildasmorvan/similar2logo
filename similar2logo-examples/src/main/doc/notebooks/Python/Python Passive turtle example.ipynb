{
 "cells": [
  {
   "cell_type": "markdown",
   "metadata": {},
   "source": [
    "# Similar2Logo python passive example\n",
    "\n",
    "We consider a simple example with a single passive agent"
   ]
  },
  {
   "cell_type": "code",
   "execution_count": 15,
   "metadata": {},
   "outputs": [
    {
     "name": "stderr",
     "output_type": "stream",
     "text": [
      "Traceback (most recent call last):\n",
      "  File \"dummy.py\", line 51, in <module>\n",
      "TypeError: __init__() takes exactly 1 argument (2 given)\n"
     ]
    },
    {
     "data": {
      "text/plain": [
       "No Outputs"
      ]
     },
     "execution_count": 15,
     "metadata": {},
     "output_type": "execute_result"
    }
   ],
   "source": [
    "#!python\n",
    "#@repository(\"~/.m2/repository/\")\n",
    "#@dependency(group=\"fr.lgi2a\", module=\"similar2logo-lib\", version=\"1.0-SNAPSHOT\")\n",
    "\n",
    "import math\n",
    "\n",
    "from fr.lgi2a.similar2logo.kernel.initializations import AbstractLogoSimulationModel\n",
    "from fr.lgi2a.similar2logo.kernel.model import LogoSimulationParameters\n",
    "from fr.lgi2a.similar2logo.kernel.model.agents.turtle import TurtleFactory, \\\n",
    "    TurtleAgentCategory\n",
    "from fr.lgi2a.similar2logo.kernel.model.environment import LogoEnvPLS\n",
    "from fr.lgi2a.similar2logo.lib.model import EmptyPerceptionModel, \\\n",
    "    PassiveTurtleDecisionModel\n",
    "from fr.lgi2a.similar2logo.lib.probes import LogoRealTimeMatcher\n",
    "from fr.lgi2a.similar2logo.lib.tools.html import Similar2LogoHtmlRunner\n",
    "from fr.lgi2a.similar.microkernel import AgentCategory\n",
    "from fr.lgi2a.similar.microkernel.ISimulationModel import AgentInitializationData\n",
    "\n",
    "\n",
    "\n",
    "class PassiveTurtleSimulationParameters(LogoSimulationParameters): \n",
    "\n",
    "    def __init__(self):\n",
    "        self.initialX = 10.0\n",
    "        self.initialY = 10.0\n",
    "        self.initialSpeed = 0.1\n",
    "        self.initialAcceleration = 0.0\n",
    "        self.initialDirection = LogoEnvPLS.NORTH\n",
    "\n",
    "class PassiveTurtleSimulationModel(AbstractLogoSimulationModel):\n",
    "    \n",
    "    def __init__(self, parameters):\n",
    "        super(PassiveTurtleSimulationModel, self).__init__(parameters)\n",
    "    \n",
    "    def generateAgents(self, parameters, levels):\n",
    "        result = AgentInitializationData()\n",
    "        turtle = TurtleFactory.generate(\n",
    "            EmptyPerceptionModel(),\n",
    "            PassiveTurtleDecisionModel(),\n",
    "            AgentCategory('passive', [TurtleAgentCategory.CATEGORY]),\n",
    "            parameters.initialDirection,\n",
    "            parameters.initialSpeed,\n",
    "            parameters.initialAcceleration,\n",
    "            parameters.initialX,\n",
    "            parameters.initialY\n",
    "        )\n",
    "        result.agents.add(turtle)\n",
    "        return result\n",
    "\n",
    "runner = Similar2LogoHtmlRunner()\n",
    "runner.config.setExportAgents(True)\n",
    "model = PassiveTurtleSimulationModel(PassiveTurtleSimulationParameters())\n",
    "runner.initializeRunner(model)\n",
    "runner.addProbe('Real time matcher', LogoRealTimeMatcher(20.0))\n",
    "runner.showView()"
   ]
  },
  {
   "cell_type": "code",
   "execution_count": 7,
   "metadata": {},
   "outputs": [
    {
     "data": {
      "text/plain": [
       "No Outputs"
      ]
     },
     "execution_count": 7,
     "metadata": {},
     "output_type": "execute_result"
    }
   ],
   "source": [
    "class PassiveTurtleSimulationParameters(LogoSimulationParameters): \n",
    "\n",
    "\n",
    "    def __init__(self):\n",
    "        self.initialX = 10.0\n",
    "        self.initialY = 10.0\n",
    "        self.initialSpeed = 0.1\n",
    "        self.initialAcceleration = 0.0\n",
    "        self.initialDirection = LogoEnvPLS.NORTH"
   ]
  },
  {
   "cell_type": "code",
   "execution_count": 5,
   "metadata": {},
   "outputs": [
    {
     "data": {
      "text/plain": [
       "No Outputs"
      ]
     },
     "execution_count": 5,
     "metadata": {},
     "output_type": "execute_result"
    }
   ],
   "source": [
    "class PassiveTurtleSimulationModel(AbstractLogoSimulationModel):\n",
    "    \n",
    "    def __init__(self, parameters):\n",
    "        super(PassiveTurtleSimulationModel, self).__init__(parameters)\n",
    "    \n",
    "    def generateAgents(self, parameters, levels):\n",
    "        result = AgentInitializationData()\n",
    "        turtle = TurtleFactory.generate(\n",
    "            EmptyPerceptionModel(),\n",
    "            PassiveTurtleDecisionModel(),\n",
    "            AgentCategory('passive', [TurtleAgentCategory.CATEGORY]),\n",
    "            parameters.initialDirection,\n",
    "            parameters.initialSpeed,\n",
    "            parameters.initialAcceleration,\n",
    "            parameters.initialX,\n",
    "            parameters.initialY\n",
    "        )\n",
    "        result.agents.add(turtle)\n",
    "        return result"
   ]
  }
 ],
 "metadata": {
  "kernelspec": {
   "display_name": "SciJava",
   "language": "groovy",
   "name": "scijava"
  },
  "language_info": {
   "codemirror_mode": "groovy",
   "file_extension": "",
   "mimetype": "",
   "name": "scijava",
   "nbconverter_exporter": "",
   "pygments_lexer": "groovy",
   "version": "1.0"
  }
 },
 "nbformat": 4,
 "nbformat_minor": 2
}
