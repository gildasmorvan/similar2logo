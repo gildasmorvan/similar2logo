{
 "cells": [
  {
   "cell_type": "markdown",
   "metadata": {},
   "source": [
    "# Similar2Logo python passive example\n",
    "\n",
    "We consider a simple example with a single passive agent"
   ]
  },
  {
   "cell_type": "markdown",
   "metadata": {},
   "source": [
    "## Grab dependencies"
   ]
  },
  {
   "cell_type": "code",
   "execution_count": 3,
   "metadata": {},
   "outputs": [
    {
     "data": {
      "text/plain": [
       "No Outputs"
      ]
     },
     "execution_count": 3,
     "metadata": {},
     "output_type": "execute_result"
    }
   ],
   "source": [
    "#!python\n",
    "#@repository(\"~/.m2/repository/\")\n",
    "#@dependency(group=\"fr.univ_artois.lgi2a\", module=\"similar2logo-lib\", version=\"1.0-SNAPSHOT\")\n",
    "\n",
    "import math\n",
    "\n",
    "from fr.univ_artois.lgi2a.similar2logo.kernel.initializations import AbstractLogoSimulationModel\n",
    "from fr.univ_artois.lgi2a.similar2logo.kernel.model import LogoSimulationParameters\n",
    "from fr.univ_artois.lgi2a.similar2logo.kernel.model.agents.turtle import TurtleFactory, \\\n",
    "    TurtleAgentCategory\n",
    "from fr.univ_artois.lgi2a.similar2logo.kernel.model.environment import LogoEnvPLS\n",
    "from fr.univ_artois.lgi2a.similar2logo.lib.model import EmptyPerceptionModel, \\\n",
    "    PassiveTurtleDecisionModel\n",
    "from fr.univ_artois.lgi2a.similar2logo.lib.probes import LogoRealTimeMatcher\n",
    "from fr.univ_artois.lgi2a.similar2logo.lib.tools.html import Similar2LogoHtmlRunner\n",
    "from fr.univ_artois.lgi2a.similar.microkernel import AgentCategory\n",
    "from fr.univ_artois.lgi2a.similar.microkernel.ISimulationModel import AgentInitializationData"
   ]
  },
  {
   "cell_type": "markdown",
   "metadata": {},
   "source": [
    "## Simulation parameters\n",
    "\n",
    "Foremost, we define the parameters of the model by creating an object that inherits from `LogoSimulationParameters`, that contains the generic parameters of a Logo-like simulation (environment size, topology, etc.)."
   ]
  },
  {
   "cell_type": "code",
   "execution_count": 4,
   "metadata": {},
   "outputs": [
    {
     "data": {
      "text/plain": [
       "No Outputs"
      ]
     },
     "execution_count": 4,
     "metadata": {},
     "output_type": "execute_result"
    }
   ],
   "source": [
    "class PassiveTurtleSimulationParameters(LogoSimulationParameters): \n",
    "\n",
    "\n",
    "    def __init__(self):\n",
    "        self.initialX = 10.0\n",
    "        self.initialY = 10.0\n",
    "        self.initialSpeed = 0.1\n",
    "        self.initialAcceleration = 0.0\n",
    "        self.initialDirection = LogoEnvPLS.NORTH"
   ]
  },
  {
   "cell_type": "markdown",
   "metadata": {},
   "source": [
    "## Simuation model\n",
    "\n",
    "Then, we define the simulation model i.e, the initial state of the simulation from the `AbstractLogoSimulationModel` class. We must implement the `generateAgents` method to describe the initial state of our passive turtle."
   ]
  },
  {
   "cell_type": "code",
   "execution_count": 5,
   "metadata": {},
   "outputs": [
    {
     "data": {
      "text/plain": [
       "No Outputs"
      ]
     },
     "execution_count": 5,
     "metadata": {},
     "output_type": "execute_result"
    }
   ],
   "source": [
    "class PassiveTurtleSimulationModel(AbstractLogoSimulationModel):\n",
    "    \n",
    "    def __init__(self, parameters):\n",
    "        super(PassiveTurtleSimulationModel, self).__init__(parameters)\n",
    "    \n",
    "    def generateAgents(self, parameters, levels):\n",
    "        result = AgentInitializationData()\n",
    "        turtle = TurtleFactory.generate(\n",
    "            EmptyPerceptionModel(),\n",
    "            PassiveTurtleDecisionModel(),\n",
    "            AgentCategory('passive', [TurtleAgentCategory.CATEGORY]),\n",
    "            parameters.initialDirection,\n",
    "            parameters.initialSpeed,\n",
    "            parameters.initialAcceleration,\n",
    "            parameters.initialX,\n",
    "            parameters.initialY\n",
    "        )\n",
    "        result.agents.add(turtle)\n",
    "        return result"
   ]
  },
  {
   "cell_type": "markdown",
   "metadata": {},
   "source": [
    "## Launch the HTML runner\n",
    "\n",
    "We can now instanciate the parameters and the simulation model. Then we launch and configure the HTML runner. Here, only the turtles are displayed. Finally, the probe `LogoRealTimeMatcher` is added to the server to slow down the simulation so that its execution speed matches a specific factor of N steps per second."
   ]
  },
  {
   "cell_type": "code",
   "execution_count": 7,
   "metadata": {},
   "outputs": [
    {
     "data": {
      "text/plain": [
       "No Outputs"
      ]
     },
     "execution_count": 7,
     "metadata": {},
     "output_type": "execute_result"
    }
   ],
   "source": [
    "runner = Similar2LogoHtmlRunner()\n",
    "runner.config.setExportAgents(True)\n",
    "model = PassiveTurtleSimulationModel(PassiveTurtleSimulationParameters())\n",
    "runner.initializeRunner(model)\n",
    "runner.addProbe('Real time matcher', LogoRealTimeMatcher(20.0))\n",
    "runner.showView()"
   ]
  }
 ],
 "metadata": {
  "kernelspec": {
   "display_name": "SciJava",
   "language": "groovy",
   "name": "scijava"
  },
  "language_info": {
   "codemirror_mode": "groovy",
   "file_extension": "",
   "mimetype": "",
   "name": "scijava",
   "nbconverter_exporter": "",
   "pygments_lexer": "groovy",
   "version": "1.0"
  }
 },
 "nbformat": 4,
 "nbformat_minor": 2
}
