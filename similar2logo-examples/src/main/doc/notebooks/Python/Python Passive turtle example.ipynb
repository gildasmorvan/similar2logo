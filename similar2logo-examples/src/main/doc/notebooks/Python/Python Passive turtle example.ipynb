{
 "cells": [
  {
   "cell_type": "markdown",
   "metadata": {},
   "source": [
    "# Similar2Logo python passive example\n",
    "\n",
    "We consider a simple example with a single passive agent"
   ]
  },
  {
   "cell_type": "markdown",
   "metadata": {},
   "source": [
    "## Grab dependencies"
   ]
  },
  {
   "cell_type": "code",
   "execution_count": 1,
   "metadata": {},
   "outputs": [
    {
     "name": "stderr",
     "output_type": "stream",
     "text": [
      "Resolving dependency: fr.univ-artois.lgi2a#similar2logo-lib;1.0-SNAPSHOT {default=[default]}\n",
      "Preparing to download artifact fr.univ-artois.lgi2a#similar2logo-lib;1.0-SNAPSHOT!similar2logo-lib.jar\n",
      "Preparing to download artifact fr.univ-artois.lgi2a#similar2logo-kernel;1.0-SNAPSHOT!similar2logo-kernel.jar\n",
      "Preparing to download artifact fr.univ-artois.lgi2a#similar-microKernel;1.0-SNAPSHOT!similar-microKernel.jar\n",
      "Preparing to download artifact fr.univ-artois.lgi2a#similar-microKernel-commonLibs;1.0-SNAPSHOT!similar-microKernel-commonLibs.jar\n",
      "Preparing to download artifact fr.univ-artois.lgi2a#similar-extendedKernel;1.0-SNAPSHOT!similar-extendedKernel.jar\n",
      "Preparing to download artifact fr.univ-artois.lgi2a#similar-extendedKernel-extendedLibs;1.0-SNAPSHOT!similar-extendedKernel-extendedLibs.jar\n",
      "Preparing to download artifact org.json#json;20170516!json.jar(bundle)\n",
      "Preparing to download artifact net.jafama#jafama;2.3.1!jafama.jar\n",
      "Preparing to download artifact org.apache.commons#commons-math3;3.6.1!commons-math3.jar\n",
      "Preparing to download artifact com.sparkjava#spark-core;2.8.0!spark-core.jar(bundle)\n",
      "Preparing to download artifact org.slf4j#slf4j-api;1.7.25!slf4j-api.jar\n",
      "Preparing to download artifact org.slf4j#jul-to-slf4j;1.7.25!jul-to-slf4j.jar\n",
      "Preparing to download artifact org.slf4j#jcl-over-slf4j;1.7.25!jcl-over-slf4j.jar\n",
      "Preparing to download artifact org.slf4j#log4j-over-slf4j;1.7.25!log4j-over-slf4j.jar\n",
      "Preparing to download artifact org.slf4j#slf4j-jdk14;1.7.25!slf4j-jdk14.jar\n",
      "Preparing to download artifact org.apache.tika#tika-core;1.20!tika-core.jar(bundle)\n",
      "Preparing to download artifact org.eclipse.jetty#jetty-server;9.4.12.v20180830!jetty-server.jar\n",
      "Preparing to download artifact org.eclipse.jetty#jetty-webapp;9.4.12.v20180830!jetty-webapp.jar\n",
      "Preparing to download artifact org.eclipse.jetty.websocket#websocket-server;9.4.12.v20180830!websocket-server.jar\n",
      "Preparing to download artifact org.eclipse.jetty.websocket#websocket-servlet;9.4.12.v20180830!websocket-servlet.jar\n",
      "Preparing to download artifact javax.servlet#javax.servlet-api;3.1.0!javax.servlet-api.jar\n",
      "Preparing to download artifact org.eclipse.jetty#jetty-http;9.4.12.v20180830!jetty-http.jar\n",
      "Preparing to download artifact org.eclipse.jetty#jetty-io;9.4.12.v20180830!jetty-io.jar\n",
      "Preparing to download artifact org.eclipse.jetty#jetty-util;9.4.12.v20180830!jetty-util.jar\n",
      "Preparing to download artifact org.eclipse.jetty#jetty-xml;9.4.12.v20180830!jetty-xml.jar\n",
      "Preparing to download artifact org.eclipse.jetty#jetty-servlet;9.4.12.v20180830!jetty-servlet.jar\n",
      "Preparing to download artifact org.eclipse.jetty#jetty-security;9.4.12.v20180830!jetty-security.jar\n",
      "Preparing to download artifact org.eclipse.jetty.websocket#websocket-common;9.4.12.v20180830!websocket-common.jar\n",
      "Preparing to download artifact org.eclipse.jetty.websocket#websocket-client;9.4.12.v20180830!websocket-client.jar\n",
      "Preparing to download artifact org.eclipse.jetty.websocket#websocket-api;9.4.12.v20180830!websocket-api.jar\n",
      "Preparing to download artifact org.eclipse.jetty#jetty-client;9.4.12.v20180830!jetty-client.jar\n"
     ]
    },
    {
     "data": {
      "text/plain": [
       "No Outputs"
      ]
     },
     "execution_count": 1,
     "metadata": {},
     "output_type": "execute_result"
    }
   ],
   "source": [
    "#!python\n",
    "#@repository(\"~/.m2/repository/\")\n",
    "#@dependency(group=\"fr.univ-artois.lgi2a\", module=\"similar2logo-lib\", version=\"1.0-SNAPSHOT\")\n",
    "\n",
    "import math\n",
    "\n",
    "from fr.univ_artois.lgi2a.similar2logo.kernel.initializations import AbstractLogoSimulationModel\n",
    "from fr.univ_artois.lgi2a.similar2logo.kernel.model import LogoSimulationParameters\n",
    "from fr.univ_artois.lgi2a.similar2logo.kernel.model.agents.turtle import TurtleFactory, \\\n",
    "    TurtleAgentCategory\n",
    "from fr.univ_artois.lgi2a.similar2logo.kernel.model.environment import LogoEnvPLS\n",
    "from fr.univ_artois.lgi2a.similar2logo.lib.model import EmptyPerceptionModel, \\\n",
    "    PassiveTurtleDecisionModel\n",
    "from fr.univ_artois.lgi2a.similar.microkernel.libs.probes import RealTimeMatcherProbe\n",
    "from fr.univ_artois.lgi2a.similar2logo.lib.tools.web import Similar2LogoWebRunner\n",
    "from fr.univ_artois.lgi2a.similar.microkernel import AgentCategory\n",
    "from fr.univ_artois.lgi2a.similar.microkernel.ISimulationModel import AgentInitializationData"
   ]
  },
  {
   "cell_type": "markdown",
   "metadata": {},
   "source": [
    "## Simulation parameters\n",
    "\n",
    "Foremost, we define the parameters of the model by creating an object that inherits from `LogoSimulationParameters`, that contains the generic parameters of a Logo-like simulation (environment size, topology, etc.)."
   ]
  },
  {
   "cell_type": "code",
   "execution_count": 2,
   "metadata": {},
   "outputs": [
    {
     "data": {
      "text/plain": [
       "No Outputs"
      ]
     },
     "execution_count": 2,
     "metadata": {},
     "output_type": "execute_result"
    }
   ],
   "source": [
    "class PassiveTurtleSimulationParameters(LogoSimulationParameters): \n",
    "\n",
    "\n",
    "    def __init__(self):\n",
    "        self.initialX = 10.0\n",
    "        self.initialY = 10.0\n",
    "        self.initialSpeed = 0.1\n",
    "        self.initialAcceleration = 0.0\n",
    "        self.initialDirection = LogoEnvPLS.NORTH"
   ]
  },
  {
   "cell_type": "markdown",
   "metadata": {},
   "source": [
    "## Simuation model\n",
    "\n",
    "Then, we define the simulation model i.e, the initial state of the simulation from the `AbstractLogoSimulationModel` class. We must implement the `generateAgents` method to describe the initial state of our passive turtle."
   ]
  },
  {
   "cell_type": "code",
   "execution_count": 3,
   "metadata": {},
   "outputs": [
    {
     "data": {
      "text/plain": [
       "No Outputs"
      ]
     },
     "execution_count": 3,
     "metadata": {},
     "output_type": "execute_result"
    }
   ],
   "source": [
    "class PassiveTurtleSimulationModel(AbstractLogoSimulationModel):\n",
    "    \n",
    "    def __init__(self, parameters):\n",
    "        super(PassiveTurtleSimulationModel, self).__init__(parameters)\n",
    "    \n",
    "    def generateAgents(self, parameters, levels):\n",
    "        result = AgentInitializationData()\n",
    "        turtle = TurtleFactory.generate(\n",
    "            EmptyPerceptionModel(),\n",
    "            PassiveTurtleDecisionModel(),\n",
    "            AgentCategory('passive', [TurtleAgentCategory.CATEGORY]),\n",
    "            parameters.initialDirection,\n",
    "            parameters.initialSpeed,\n",
    "            parameters.initialAcceleration,\n",
    "            parameters.initialX,\n",
    "            parameters.initialY\n",
    "        )\n",
    "        result.agents.add(turtle)\n",
    "        return result"
   ]
  },
  {
   "cell_type": "markdown",
   "metadata": {},
   "source": [
    "## Launch the HTML runner\n",
    "\n",
    "We can now instanciate the parameters and the simulation model. Then we launch and configure the HTML runner. Here, only the turtles are displayed. Finally, the probe `LogoRealTimeMatcher` is added to the server to slow down the simulation so that its execution speed matches a specific factor of N steps per second."
   ]
  },
  {
   "cell_type": "code",
   "execution_count": 4,
   "metadata": {},
   "outputs": [
    {
     "data": {
      "text/plain": [
       "No Outputs"
      ]
     },
     "execution_count": 4,
     "metadata": {},
     "output_type": "execute_result"
    }
   ],
   "source": [
    "runner = Similar2LogoWebRunner()\n",
    "runner.config.setExportAgents(True)\n",
    "model = PassiveTurtleSimulationModel(PassiveTurtleSimulationParameters())\n",
    "runner.initializeRunner(model)\n",
    "runner.addProbe('Real time matcher', RealTimeMatcherProbe(20.0))\n",
    "runner.showView()"
   ]
  },
  {
   "cell_type": "code",
   "execution_count": null,
   "metadata": {},
   "outputs": [],
   "source": []
  }
 ],
 "metadata": {
  "kernelspec": {
   "display_name": "SciJava",
   "language": "groovy",
   "name": "scijava"
  },
  "language_info": {
   "codemirror_mode": "groovy",
   "file_extension": "",
   "mimetype": "",
   "name": "scijava",
   "nbconverter_exporter": "",
   "pygments_lexer": "groovy",
   "version": "1.0"
  }
 },
 "nbformat": 4,
 "nbformat_minor": 2
}
