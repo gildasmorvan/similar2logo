{
 "cells": [
  {
   "cell_type": "markdown",
   "metadata": {},
   "source": [
    "# Adding a user-defined decision module to the turtles: The boids model\n",
    "\n",
    "The [boids](https://en.wikipedia.org/wiki/Boids) (bird-oid) model has been invented by [Craig Reynolds](https://en.wikipedia.org/wiki/Craig_Reynolds_(computer_graphics)) in 1986 to simulate the flocking behavior of birds. It is based on 3 principles:\n",
    "    \n",
    "* separation: boids tend to avoid other boids that are too close,\n",
    "\n",
    "* alignment: boids tend to align their velocity to boids that are not too close and not too far away,\n",
    "\n",
    "* cohesion: bois tend to move towards boids that are too far away.\n",
    "\n",
    "While these rules are essentially heuristic, they can be implemented defining three areas (repulsion, orientation, attraction) for each principle. \n",
    "\n",
    "* Boids change their orientation to get away from other boids in the repulsion area,\n",
    "\n",
    "* Boids change their orientation and speed to match those of other boids in the orientation area,\n",
    "\n",
    "* Boids change their orientation to get to other boids in the attraction area."
   ]
  },
  {
   "cell_type": "markdown",
   "metadata": {},
   "source": [
    "## Grab dependencies"
   ]
  },
  {
   "cell_type": "code",
   "execution_count": 3,
   "metadata": {},
   "outputs": [
    {
     "data": {
      "text/plain": [
       "No Outputs"
      ]
     },
     "execution_count": 3,
     "metadata": {},
     "output_type": "execute_result"
    }
   ],
   "source": [
    "#!python\n",
    "#@repository(\"~/.m2/repository/\")\n",
    "#@dependency(group=\"fr.lgi2a\", module=\"similar2logo-lib\", version=\"1.0-SNAPSHOT\")\n",
    "\n",
    "import math\n",
    "\n",
    "from fr.lgi2a.similar.extendedkernel.libs.abstractimpl import AbstractAgtDecisionModel\n",
    "from fr.lgi2a.similar.microkernel import AgentCategory\n",
    "from fr.lgi2a.similar.microkernel.ISimulationModel import AgentInitializationData\n",
    "from fr.lgi2a.similar2logo.kernel.initializations import AbstractLogoSimulationModel\n",
    "from fr.lgi2a.similar2logo.kernel.model import LogoSimulationParameters\n",
    "from fr.lgi2a.similar2logo.kernel.model.agents.turtle import TurtleFactory, \\\n",
    "    TurtleAgentCategory\n",
    "from fr.lgi2a.similar2logo.kernel.model.influences import ChangeDirection, \\\n",
    "    ChangeSpeed\n",
    "from fr.lgi2a.similar2logo.kernel.model.levels import LogoSimulationLevelList\n",
    "from fr.lgi2a.similar2logo.kernel.tools import MathUtil\n",
    "from fr.lgi2a.similar2logo.lib.model import ConeBasedPerceptionModel\n",
    "from fr.lgi2a.similar2logo.lib.tools.html import Similar2LogoHtmlRunner\n",
    "from fr.lgi2a.similar2logo.lib.tools.math import MeanAngle\n",
    "from fr.lgi2a.similar2logo.lib.tools.random import PRNG"
   ]
  },
  {
   "cell_type": "markdown",
   "metadata": {},
   "source": [
    "## Model parameters\n",
    "\n",
    "The model parameters and their default values are defined."
   ]
  },
  {
   "cell_type": "code",
   "execution_count": 4,
   "metadata": {},
   "outputs": [
    {
     "data": {
      "text/plain": [
       "No Outputs"
      ]
     },
     "execution_count": 4,
     "metadata": {},
     "output_type": "execute_result"
    }
   ],
   "source": [
    "class BoidsSimulationParameters(LogoSimulationParameters): \n",
    "\n",
    "    def __init__(self):\n",
    "        self.repulsionDistance = 1.0\n",
    "        self.orientationDistance = 2.0\n",
    "        self.attractionDistance = 4.0\n",
    "        self.repulsionWeight = 10.0\n",
    "        self.orientationWeight = 20.0\n",
    "        self.attractionWeight = 0.1\n",
    "        self.maxInitialSpeed = 2.0\n",
    "        self.minInitialSpeed = 1.0\n",
    "        self.perceptionAngle = math.pi\n",
    "        self.nbOfAgents = 200\n",
    "        self.maxAngle = math.pi / 4"
   ]
  },
  {
   "cell_type": "markdown",
   "metadata": {},
   "source": [
    "## Decision model\n",
    "\n",
    "The decision model consists in changing the direction and speed of the boids according to the previously described rules.\n",
    "To define a decision model, the modeler must define an object that extends `AbstractAgtDecisionModel` and implement the `decide` method."
   ]
  },
  {
   "cell_type": "code",
   "execution_count": 5,
   "metadata": {},
   "outputs": [
    {
     "data": {
      "text/plain": [
       "No Outputs"
      ]
     },
     "execution_count": 5,
     "metadata": {},
     "output_type": "execute_result"
    }
   ],
   "source": [
    "class BoidDecisionModel(AbstractAgtDecisionModel):\n",
    "    \n",
    "    def __init__(self, parameters):\n",
    "        self.parameters = parameters\n",
    "        super(BoidDecisionModel, self).__init__(LogoSimulationLevelList.LOGO)\n",
    "    \n",
    "    def decide(\n",
    "        self,\n",
    "        timeLowerBound,\n",
    "        timeUpperBound,\n",
    "        globalState,\n",
    "        publicLocalState,\n",
    "        privateLocalState,\n",
    "        perceivedData,\n",
    "        producedInfluences\n",
    "    ):\n",
    "        if not perceivedData.turtles.isEmpty():\n",
    "            orientationSpeed = 0.0\n",
    "            nbOfTurtlesInOrientationArea = 0\n",
    "            meanAngle = MeanAngle()\n",
    "            for perceivedTurtle in perceivedData.turtles:\n",
    "                if perceivedTurtle.distanceTo <= self.parameters.repulsionDistance:\n",
    "                    meanAngle.add(\n",
    "                        publicLocalState.direction - perceivedTurtle.directionTo,\n",
    "                        self.parameters.repulsionWeight\n",
    "                    )\n",
    "                elif perceivedTurtle.distanceTo <= self.parameters.orientationDistance:\n",
    "                    meanAngle.add(\n",
    "                        perceivedTurtle.content.direction - publicLocalState.direction,\n",
    "                        self.parameters.orientationWeight\n",
    "                    )\n",
    "                    orientationSpeed += perceivedTurtle.content.speed - publicLocalState.speed\n",
    "                    nbOfTurtlesInOrientationArea+=1\n",
    "                elif perceivedTurtle.distanceTo <= self.parameters.attractionDistance:\n",
    "                    meanAngle.add(\n",
    "                        perceivedTurtle.directionTo - publicLocalState.direction,\n",
    "                        self.parameters.attractionWeight\n",
    "                    )\n",
    "   \n",
    "            dd = meanAngle.value()\n",
    "            if not MathUtil.areEqual(dd, 0.0):\n",
    "                if dd > self.parameters.maxAngle:\n",
    "                    dd = self.parameters.maxAngle\n",
    "                elif dd < -self.parameters.maxAngle:\n",
    "                    dd = -self.parameters.maxAngle\n",
    "\n",
    "                producedInfluences.add(\n",
    "                    ChangeDirection(\n",
    "                        timeLowerBound,\n",
    "                        timeUpperBound,\n",
    "                        dd,\n",
    "                        publicLocalState\n",
    "                    )\n",
    "                )\n",
    "                \n",
    "            if  nbOfTurtlesInOrientationArea > 0:\n",
    "                orientationSpeed /= nbOfTurtlesInOrientationArea;\n",
    "                producedInfluences.add(\n",
    "                    ChangeSpeed(\n",
    "                        timeLowerBound,\n",
    "                        timeUpperBound,\n",
    "                        orientationSpeed,\n",
    "                        publicLocalState\n",
    "                    )\n",
    "                )"
   ]
  },
  {
   "cell_type": "markdown",
   "metadata": {},
   "source": [
    "## The simulation model\n",
    "\n",
    "In the simulation model defined in our example, boids are randomly located in the environment with a random orientation and speed."
   ]
  },
  {
   "cell_type": "code",
   "execution_count": 6,
   "metadata": {},
   "outputs": [
    {
     "data": {
      "text/plain": [
       "No Outputs"
      ]
     },
     "execution_count": 6,
     "metadata": {},
     "output_type": "execute_result"
    }
   ],
   "source": [
    "class BoidsSimulationModel(AbstractLogoSimulationModel):\n",
    "    \n",
    "    def __init__(self, parameters):\n",
    "        super(BoidsSimulationModel, self).__init__(parameters)\n",
    "    \n",
    "    def generateBoid(self, p):\n",
    "        return TurtleFactory.generate(\n",
    "            ConeBasedPerceptionModel(\n",
    "                p.attractionDistance, p.perceptionAngle, True, False, False\n",
    "            ),\n",
    "            BoidDecisionModel(p),\n",
    "            AgentCategory(\"b\", [TurtleAgentCategory.CATEGORY]),\n",
    "            PRNG.get().randomAngle(),\n",
    "            p.minInitialSpeed + PRNG.get().randomDouble() * (\n",
    "                p.maxInitialSpeed - p.minInitialSpeed\n",
    "            ),\n",
    "            0.0,\n",
    "            PRNG.get().randomDouble() * p.gridWidth,\n",
    "            PRNG.get().randomDouble() * p.gridHeight\n",
    "        )\n",
    "        \n",
    "    def generateAgents(self, parameters, levels):\n",
    "        result = AgentInitializationData()\n",
    "        for i in range(0, parameters.nbOfAgents):\n",
    "            result.agents.add(self.generateBoid(parameters))\n",
    "        return result"
   ]
  },
  {
   "cell_type": "markdown",
   "metadata": {},
   "source": [
    "## Launch the HTML runner\n",
    "\n",
    "Finally, we launch and configure the HTML runner."
   ]
  },
  {
   "cell_type": "code",
   "execution_count": 7,
   "metadata": {},
   "outputs": [
    {
     "data": {
      "text/plain": [
       "No Outputs"
      ]
     },
     "execution_count": 7,
     "metadata": {},
     "output_type": "execute_result"
    }
   ],
   "source": [
    "runner = Similar2LogoHtmlRunner()\n",
    "runner.config.setExportAgents(True)\n",
    "model = BoidsSimulationModel(BoidsSimulationParameters())\n",
    "runner.initializeRunner(model)\n",
    "runner.showView()"
   ]
  }
 ],
 "metadata": {
  "kernelspec": {
   "display_name": "SciJava",
   "language": "groovy",
   "name": "scijava"
  },
  "language_info": {
   "codemirror_mode": "groovy",
   "file_extension": "",
   "mimetype": "",
   "name": "scijava",
   "nbconverter_exporter": "",
   "pygments_lexer": "groovy",
   "version": "1.0"
  }
 },
 "nbformat": 4,
 "nbformat_minor": 2
}
