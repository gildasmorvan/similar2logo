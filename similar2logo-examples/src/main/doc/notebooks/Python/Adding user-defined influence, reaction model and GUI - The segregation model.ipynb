{
 "cells": [
  {
   "cell_type": "markdown",
   "metadata": {},
   "source": [
    "# Adding user-defined influence, reaction model and GUI: The segregation model\n",
    "\n",
    "The segregation model has been proposed by [Thomas Schelling](https://en.wikipedia.org/wiki/Thomas_Schelling) in 1971 in his famous paper [Dynamic Models of Segregation](https://www.stat.berkeley.edu/~aldous/157/Papers/Schelling_Seg_Models.pdf). The goal of this model is to show that segregation can occur even if it is not wanted by the agents.\n",
    "\n",
    "In our implementation of this model, turtles are located in the grid and at each step, compute an happiness index based on the similarity of other agents in their neighborhood. If this index is below a value, called here similarity rate, the turtle wants to move to an other location."
   ]
  },
  {
   "cell_type": "markdown",
   "metadata": {},
   "source": [
    "## Grab dependencies"
   ]
  },
  {
   "cell_type": "code",
   "execution_count": 1,
   "metadata": {},
   "outputs": [
    {
     "name": "stderr",
     "output_type": "stream",
     "text": [
      "Resolving dependency: fr.univ_artois.lgi2a#similar2logo-lib;1.0-SNAPSHOT {default=[default]}\n",
      "Preparing to download artifact fr.univ_artois.lgi2a#similar2logo-lib;1.0-SNAPSHOT!similar2logo-lib.jar\n",
      "Preparing to download artifact fr.univ_artois.lgi2a#similar2logo-kernel;1.0-SNAPSHOT!similar2logo-kernel.jar\n",
      "Preparing to download artifact com.sparkjava#spark-core;2.7.2!spark-core.jar(bundle)\n",
      "Preparing to download artifact org.slf4j#slf4j-simple;1.7.13!slf4j-simple.jar\n",
      "Preparing to download artifact org.apache.commons#commons-math3;3.6.1!commons-math3.jar\n",
      "Preparing to download artifact fr.univ_artois.lgi2a#similar-microKernel;1.0-SNAPSHOT!similar-microKernel.jar\n",
      "Preparing to download artifact fr.univ_artois.lgi2a#similar-microKernel-commonLibs;1.0-SNAPSHOT!similar-microKernel-commonLibs.jar\n",
      "Preparing to download artifact fr.univ_artois.lgi2a#similar-extendedKernel;1.0-SNAPSHOT!similar-extendedKernel.jar\n",
      "Preparing to download artifact fr.univ_artois.lgi2a#similar-extendedKernel-extendedLibs;1.0-SNAPSHOT!similar-extendedKernel-extendedLibs.jar\n",
      "Preparing to download artifact org.json#json;20170516!json.jar(bundle)\n",
      "Preparing to download artifact net.jafama#jafama;2.3.1!jafama.jar\n",
      "Preparing to download artifact org.slf4j#slf4j-api;1.7.13!slf4j-api.jar\n",
      "Preparing to download artifact org.eclipse.jetty#jetty-server;9.4.8.v20171121!jetty-server.jar\n",
      "Preparing to download artifact org.eclipse.jetty#jetty-webapp;9.4.8.v20171121!jetty-webapp.jar\n",
      "Preparing to download artifact org.eclipse.jetty.websocket#websocket-server;9.4.8.v20171121!websocket-server.jar\n",
      "Preparing to download artifact org.eclipse.jetty.websocket#websocket-servlet;9.4.8.v20171121!websocket-servlet.jar\n",
      "Preparing to download artifact javax.servlet#javax.servlet-api;3.1.0!javax.servlet-api.jar\n",
      "Preparing to download artifact org.eclipse.jetty#jetty-http;9.4.8.v20171121!jetty-http.jar\n",
      "Preparing to download artifact org.eclipse.jetty#jetty-io;9.4.8.v20171121!jetty-io.jar\n",
      "Preparing to download artifact org.eclipse.jetty#jetty-util;9.4.8.v20171121!jetty-util.jar\n",
      "Preparing to download artifact org.eclipse.jetty#jetty-xml;9.4.8.v20171121!jetty-xml.jar\n",
      "Preparing to download artifact org.eclipse.jetty#jetty-servlet;9.4.8.v20171121!jetty-servlet.jar\n",
      "Preparing to download artifact org.eclipse.jetty#jetty-security;9.4.8.v20171121!jetty-security.jar\n",
      "Preparing to download artifact org.eclipse.jetty.websocket#websocket-common;9.4.8.v20171121!websocket-common.jar\n",
      "Preparing to download artifact org.eclipse.jetty.websocket#websocket-client;9.4.8.v20171121!websocket-client.jar\n",
      "Preparing to download artifact org.eclipse.jetty.websocket#websocket-api;9.4.8.v20171121!websocket-api.jar\n",
      "Preparing to download artifact org.eclipse.jetty#jetty-client;9.4.8.v20171121!jetty-client.jar\n"
     ]
    },
    {
     "data": {
      "text/plain": [
       "No Outputs"
      ]
     },
     "execution_count": 1,
     "metadata": {},
     "output_type": "execute_result"
    }
   ],
   "source": [
    "#!python\n",
    "#@repository(\"~/.m2/repository/\")\n",
    "#@dependency(group=\"fr.univ-artois.lgi2a\", module=\"similar2logo-lib\", version=\"1.0-SNAPSHOT\")\n",
    "\n",
    "import math\n",
    "\n",
    "from fr.univ_artois.lgi2a.similar.extendedkernel.levels import ExtendedLevel\n",
    "from fr.univ_artois.lgi2a.similar.extendedkernel.libs.abstractimpl import AbstractAgtDecisionModel\n",
    "from fr.univ_artois.lgi2a.similar.extendedkernel.libs.timemodel import PeriodicTimeModel\n",
    "from fr.univ_artois.lgi2a.similar.microkernel import AgentCategory\n",
    "from fr.univ_artois.lgi2a.similar.microkernel.ISimulationModel import AgentInitializationData\n",
    "from fr.univ_artois.lgi2a.similar.microkernel.influences import RegularInfluence\n",
    "from fr.univ_artois.lgi2a.similar2logo.kernel.initializations import AbstractLogoSimulationModel\n",
    "from fr.univ_artois.lgi2a.similar2logo.kernel.model import LogoSimulationParameters\n",
    "from fr.univ_artois.lgi2a.similar2logo.kernel.model.agents.turtle import TurtleFactory, \\\n",
    "    TurtleAgentCategory\n",
    "from fr.univ_artois.lgi2a.similar2logo.kernel.model.levels import LogoSimulationLevelList, \\\n",
    "    LogoDefaultReactionModel\n",
    "from fr.univ_artois.lgi2a.similar2logo.lib.model import ConeBasedPerceptionModel\n",
    "from fr.univ_artois.lgi2a.similar2logo.lib.tools.web import Similar2LogoHtmlRunner\n",
    "from fr.univ_artois.lgi2a.similar.extendedkernel.libs.random import PRNG\n",
    "from java.awt.geom import Point2D\n",
    "from java.util import ArrayList"
   ]
  },
  {
   "cell_type": "markdown",
   "metadata": {},
   "source": [
    "## Model parameters\n",
    "\n",
    "We define the following parameters and their default values."
   ]
  },
  {
   "cell_type": "code",
   "execution_count": 2,
   "metadata": {},
   "outputs": [
    {
     "data": {
      "text/plain": [
       "No Outputs"
      ]
     },
     "execution_count": 2,
     "metadata": {},
     "output_type": "execute_result"
    }
   ],
   "source": [
    "class SegregationSimulationParameters(LogoSimulationParameters): \n",
    "\n",
    "    def __init__(self):\n",
    "        self.similarityRate = 3.0/8\n",
    "        self.vacancyRate = 0.05\n",
    "        self.perceptionDistance = math.sqrt(2)"
   ]
  },
  {
   "cell_type": "markdown",
   "metadata": {},
   "source": [
    "## Model-specific influence\n",
    "\n",
    "We define an influence called `Move` that is emitted by an agent who wants to move to another location. It is defined by a  unique identifier, here \"move\", and the state of the turtle that wants to move."
   ]
  },
  {
   "cell_type": "code",
   "execution_count": 3,
   "metadata": {},
   "outputs": [
    {
     "data": {
      "text/plain": [
       "No Outputs"
      ]
     },
     "execution_count": 3,
     "metadata": {},
     "output_type": "execute_result"
    }
   ],
   "source": [
    "class Move(RegularInfluence):\n",
    "    \n",
    "    CATEGORY = 'move'\n",
    "    \n",
    "    def __init__(self, timeLowerBound, timeUpperBound, target):\n",
    "        self.target = target\n",
    "        super(Move, self).__init__(\n",
    "            self.CATEGORY,\n",
    "            LogoSimulationLevelList.LOGO,\n",
    "            timeLowerBound,\n",
    "            timeUpperBound\n",
    "        )"
   ]
  },
  {
   "cell_type": "markdown",
   "metadata": {},
   "source": [
    "## Decision model\n",
    "\n",
    "The decision model computes a happiness index based on the rate of turtles of different categories in its neighborhood. If the index is below the parameter `similarityRate`, the turtle emits a `Move` influence."
   ]
  },
  {
   "cell_type": "code",
   "execution_count": 4,
   "metadata": {},
   "outputs": [
    {
     "data": {
      "text/plain": [
       "No Outputs"
      ]
     },
     "execution_count": 4,
     "metadata": {},
     "output_type": "execute_result"
    }
   ],
   "source": [
    "class SegregationDecisionModel(AbstractAgtDecisionModel):\n",
    "    \n",
    "    def __init__(self, parameters):\n",
    "        self.parameters = parameters\n",
    "        super(SegregationDecisionModel, self).__init__(\n",
    "            LogoSimulationLevelList.LOGO\n",
    "        )\n",
    "        \n",
    "    def decide(\n",
    "        self,\n",
    "        timeLowerBound,\n",
    "        timeUpperBound,\n",
    "        globalState,\n",
    "        publicLocalState,\n",
    "        privateLocalState,\n",
    "        perceivedData,\n",
    "        producedInfluences\n",
    "    ):\n",
    "        similarityRate = 0.0\n",
    "        for perceivedTurtle in perceivedData.turtles:\n",
    "            if perceivedTurtle.content.categoryOfAgent.isA(\n",
    "               publicLocalState.categoryOfAgent\n",
    "            ):\n",
    "                similarityRate+=1\n",
    "\n",
    "        if not perceivedData.turtles.isEmpty():\n",
    "            similarityRate /= perceivedData.turtles.size()\n",
    "        if similarityRate < self.parameters.similarityRate:\n",
    "            producedInfluences.add(\n",
    "                Move(timeLowerBound, timeUpperBound, publicLocalState)\n",
    "            )"
   ]
  },
  {
   "cell_type": "markdown",
   "metadata": {},
   "source": [
    "## Reaction model\n",
    "\n",
    "The reaction model handles the `Move` influences emitted by unhappy turtles. First, it identifies vacant places and moves the turtles that have emitted a `Move` influence. Note that if there is not enough vacant places, not all turtle wishes can be fulfilled."
   ]
  },
  {
   "cell_type": "code",
   "execution_count": 5,
   "metadata": {},
   "outputs": [
    {
     "data": {
      "text/plain": [
       "No Outputs"
      ]
     },
     "execution_count": 5,
     "metadata": {},
     "output_type": "execute_result"
    }
   ],
   "source": [
    "class SegregationReactionModel(LogoDefaultReactionModel):\n",
    "        \n",
    "        def __init__(self,parameters):\n",
    "            self.parameters = parameters\n",
    "\n",
    "        def makeRegularReaction(\n",
    "            self,\n",
    "            transitoryTimeMin,\n",
    "            transitoryTimeMax,\n",
    "            consistentState,\n",
    "            regularInfluencesOftransitoryStateDynamics,\n",
    "            remainingInfluences\n",
    "        ):\n",
    "            #If there there is at least an agent that wants to move\n",
    "            if regularInfluencesOftransitoryStateDynamics.size() > 2:\n",
    "                specificInfluences = ArrayList()\n",
    "                vacantPlaces = ArrayList()\n",
    "                specificInfluences.addAll(\n",
    "                    regularInfluencesOftransitoryStateDynamics\n",
    "                )\n",
    "                PRNG.shuffle(specificInfluences)\n",
    "                #Identify vacant places\n",
    "                envState = consistentState.publicLocalStateOfEnvironment\n",
    "                for x in range(0, envState.width):\n",
    "                    for y in range(0,envState.height):\n",
    "                        if envState.getTurtlesAt(x, y).isEmpty():\n",
    "                            vacantPlaces.add(\n",
    "                                Point2D.Double(x, y)\n",
    "                            )\n",
    "                PRNG.shuffle(vacantPlaces)\n",
    "                #move agents\n",
    "                i = 0\n",
    "                for influence in specificInfluences:\n",
    "                    if influence.category == Move.CATEGORY:\n",
    "                        envState.turtlesInPatches[\n",
    "                            int(math.floor(influence.target.location.x))\n",
    "                        ][\n",
    "                            int(math.floor(influence.target.location.y))\n",
    "                        ].clear()\n",
    "                        envState.turtlesInPatches[\n",
    "                            int(math.floor(vacantPlaces[i].x))\n",
    "                        ][\n",
    "                            int(math.floor(vacantPlaces[i].y))\n",
    "                        ].add(influence.target)\n",
    "                        influence.target.location = vacantPlaces[i]\n",
    "                        i+=1\n",
    "                    if i >= vacantPlaces.size():\n",
    "                        break"
   ]
  },
  {
   "cell_type": "markdown",
   "metadata": {},
   "source": [
    "## Simulation model\n",
    "\n",
    "The simulation model generates the Logo level using the user-defined reaction model and a simple periodic time model. It also generates turtles of 2 different types (a and b) randomly in the grid with respect to the vacancy rate parameter."
   ]
  },
  {
   "cell_type": "code",
   "execution_count": 6,
   "metadata": {},
   "outputs": [
    {
     "data": {
      "text/plain": [
       "No Outputs"
      ]
     },
     "execution_count": 6,
     "metadata": {},
     "output_type": "execute_result"
    }
   ],
   "source": [
    "class SegregationSimulationModel(AbstractLogoSimulationModel):\n",
    "    \n",
    "    def __init__(self, parameters):\n",
    "        super(SegregationSimulationModel, self).__init__(parameters)\n",
    "        \n",
    "    def generateLevels(self, simulationParameters):\n",
    "        logo = ExtendedLevel(\n",
    "            simulationParameters.initialTime,\n",
    "            LogoSimulationLevelList.LOGO,\n",
    "            PeriodicTimeModel(\n",
    "                1,\n",
    "                0,\n",
    "                simulationParameters.initialTime\n",
    "            ),\n",
    "            SegregationReactionModel(simulationParameters)\n",
    "        )\n",
    "        levelList = []\n",
    "        levelList.append(logo)\n",
    "        return levelList\n",
    "    \n",
    "    def generateAgents(self, parameters, levels):\n",
    "        result = AgentInitializationData()\n",
    "        t = ''\n",
    "        for x in range(0, parameters.gridWidth):\n",
    "            for y in range(0, parameters.gridHeight):\n",
    "                if PRNG.randomDouble() >= parameters.vacancyRate:\n",
    "                    if PRNG.randomBoolean():\n",
    "                        t = 'a'\n",
    "                    else:\n",
    "                        t = 'b'\n",
    "                    turtle = TurtleFactory.generate(\n",
    "                            ConeBasedPerceptionModel(\n",
    "                                parameters.perceptionDistance,\n",
    "                                2 * math.pi,\n",
    "                                True,\n",
    "                                False,\n",
    "                                False\n",
    "                            ),\n",
    "                            SegregationDecisionModel(parameters),\n",
    "                            AgentCategory(t, [TurtleAgentCategory.CATEGORY]),\n",
    "                            0.0,\n",
    "                            0.0,\n",
    "                            0.0,\n",
    "                            x,\n",
    "                            y\n",
    "                    )\n",
    "                    result.agents.add(turtle)\n",
    "        return result"
   ]
  },
  {
   "cell_type": "markdown",
   "metadata": {},
   "source": [
    "## Launch the HTML runner\n",
    "\n",
    "The GUI is defined in a variable called `segregationgui`. Finally, we launch the web server with the above described GUI."
   ]
  },
  {
   "cell_type": "code",
   "execution_count": 7,
   "metadata": {},
   "outputs": [
    {
     "data": {
      "text/plain": [
       "No Outputs"
      ]
     },
     "execution_count": 7,
     "metadata": {},
     "output_type": "execute_result"
    }
   ],
   "source": [
    "segregationgui = '''\n",
    "    <canvas id='grid_canvas' class='center-block' width='400' height='400'></canvas>\n",
    "    <script type='text/javascript'>\n",
    "        drawCanvas = function (data) {\n",
    "            var json = JSON.parse(data),\n",
    "                canvas = document.getElementById('grid_canvas'),\n",
    "                context = canvas.getContext('2d');\n",
    "            context.clearRect(0, 0, canvas.width, canvas.height);\n",
    "            for (var i = 0; i < json.agents.length; i++) {\n",
    "                var centerX = json.agents[i].x * canvas.width;\n",
    "                var centerY = json.agents[i].y * canvas.height;\n",
    "                var radius = 2;\n",
    "                if (json.agents[i].t == 'a') {\n",
    "                    context.fillStyle = 'red';\n",
    "                } else {\n",
    "                    context.fillStyle = 'blue';\n",
    "                }\n",
    "                context.beginPath();\n",
    "                context.arc(centerX, centerY, radius, 0, 2 * Math.PI, false);\n",
    "                context.fill();\n",
    "            }\n",
    "        }\n",
    "    </script>'''\n",
    "\n",
    "runner = Similar2LogoHtmlRunner()\n",
    "runner.config.setExportAgents(True)\n",
    "model = SegregationSimulationModel(SegregationSimulationParameters())\n",
    "runner.config.setCustomHtmlBodyFromString(segregationgui)\n",
    "runner.initializeRunner(model)\n",
    "runner.showView()    "
   ]
  }
 ],
 "metadata": {
  "kernelspec": {
   "display_name": "SciJava",
   "language": "groovy",
   "name": "scijava"
  },
  "language_info": {
   "codemirror_mode": "groovy",
   "file_extension": "",
   "mimetype": "",
   "name": "scijava",
   "nbconverter_exporter": "",
   "pygments_lexer": "groovy",
   "version": "1.0"
  }
 },
 "nbformat": 4,
 "nbformat_minor": 2
}
