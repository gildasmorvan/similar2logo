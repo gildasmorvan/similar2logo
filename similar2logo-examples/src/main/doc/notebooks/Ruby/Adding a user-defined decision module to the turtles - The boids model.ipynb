{
 "cells": [
  {
   "cell_type": "markdown",
   "metadata": {},
   "source": [
    "# Adding a user-defined decision module to the turtles: The boids model\n",
    "\n",
    "The [boids](https://en.wikipedia.org/wiki/Boids) (bird-oid) model has been invented by [Craig Reynolds](https://en.wikipedia.org/wiki/Craig_Reynolds_(computer_graphics)) in 1986 to simulate the flocking behavior of birds. It is based on 3 principles:\n",
    "    \n",
    "* separation: boids tend to avoid other boids that are too close,\n",
    "\n",
    "* alignment: boids tend to align their velocity to boids that are not too close and not too far away,\n",
    "\n",
    "* cohesion: bois tend to move towards boids that are too far away.\n",
    "\n",
    "While these rules are essentially heuristic, they can be implemented defining three areas (repulsion, orientation, attraction) for each principle. \n",
    "\n",
    "* Boids change their orientation to get away from other boids in the repulsion area,\n",
    "\n",
    "* Boids change their orientation and speed to match those of other boids in the orientation area,\n",
    "\n",
    "* Boids change their orientation to get to other boids in the attraction area."
   ]
  },
  {
   "cell_type": "markdown",
   "metadata": {},
   "source": [
    "## Grab dependencies"
   ]
  },
  {
   "cell_type": "code",
   "execution_count": 1,
   "metadata": {},
   "outputs": [
    {
     "name": "stderr",
     "output_type": "stream",
     "text": [
      "Resolving dependency: fr.lgi2a#similar2logo-lib;1.0-SNAPSHOT {default=[default]}\n",
      "Preparing to download artifact fr.lgi2a#similar2logo-lib;1.0-SNAPSHOT!similar2logo-lib.jar\n",
      "Preparing to download artifact fr.lgi2a#similar2logo-kernel;1.0-SNAPSHOT!similar2logo-kernel.jar\n",
      "Preparing to download artifact com.sparkjava#spark-core;2.7.2!spark-core.jar(bundle)\n",
      "Preparing to download artifact org.slf4j#slf4j-simple;1.7.13!slf4j-simple.jar\n",
      "Preparing to download artifact org.apache.commons#commons-math3;3.6.1!commons-math3.jar\n",
      "Preparing to download artifact fr.lgi2a#similar-microKernel;1.0-SNAPSHOT!similar-microKernel.jar\n",
      "Preparing to download artifact fr.lgi2a#similar-microKernel-commonLibs;1.0-SNAPSHOT!similar-microKernel-commonLibs.jar\n",
      "Preparing to download artifact fr.lgi2a#similar-extendedKernel;1.0-SNAPSHOT!similar-extendedKernel.jar\n",
      "Preparing to download artifact fr.lgi2a#similar-extendedKernel-extendedLibs;1.0-SNAPSHOT!similar-extendedKernel-extendedLibs.jar\n",
      "Preparing to download artifact org.json#json;20170516!json.jar(bundle)\n",
      "Preparing to download artifact net.jafama#jafama;2.3.1!jafama.jar\n",
      "Preparing to download artifact org.slf4j#slf4j-api;1.7.13!slf4j-api.jar\n",
      "Preparing to download artifact org.eclipse.jetty#jetty-server;9.4.8.v20171121!jetty-server.jar\n",
      "Preparing to download artifact org.eclipse.jetty#jetty-webapp;9.4.8.v20171121!jetty-webapp.jar\n",
      "Preparing to download artifact org.eclipse.jetty.websocket#websocket-server;9.4.8.v20171121!websocket-server.jar\n",
      "Preparing to download artifact org.eclipse.jetty.websocket#websocket-servlet;9.4.8.v20171121!websocket-servlet.jar\n",
      "Preparing to download artifact javax.servlet#javax.servlet-api;3.1.0!javax.servlet-api.jar\n",
      "Preparing to download artifact org.eclipse.jetty#jetty-http;9.4.8.v20171121!jetty-http.jar\n",
      "Preparing to download artifact org.eclipse.jetty#jetty-io;9.4.8.v20171121!jetty-io.jar\n",
      "Preparing to download artifact org.eclipse.jetty#jetty-util;9.4.8.v20171121!jetty-util.jar\n",
      "Preparing to download artifact org.eclipse.jetty#jetty-xml;9.4.8.v20171121!jetty-xml.jar\n",
      "Preparing to download artifact org.eclipse.jetty#jetty-servlet;9.4.8.v20171121!jetty-servlet.jar\n",
      "Preparing to download artifact org.eclipse.jetty#jetty-security;9.4.8.v20171121!jetty-security.jar\n",
      "Preparing to download artifact org.eclipse.jetty.websocket#websocket-common;9.4.8.v20171121!websocket-common.jar\n",
      "Preparing to download artifact org.eclipse.jetty.websocket#websocket-client;9.4.8.v20171121!websocket-client.jar\n",
      "Preparing to download artifact org.eclipse.jetty.websocket#websocket-api;9.4.8.v20171121!websocket-api.jar\n",
      "Preparing to download artifact org.eclipse.jetty#jetty-client;9.4.8.v20171121!jetty-client.jar\n"
     ]
    },
    {
     "data": {
      "text/html": [
       "<style>table.converted {color: #333; font-family: Helvetica, Arial, sans-serif; border-collapse: collapse; border-spacing: 0;}table.converted td, table.converted th {border: 1px solid #C9C7C7;}table.converted th, table.converted td.rowLabel {background: #626262; color: #FFFFFF; font-weight: bold; text-align: left;}table.converted td {text-align: left;}table.converted tr:nth-child(even) {background: #F3F3F3;}table.converted tr:nth-child(odd) {background: #FFFFFF;}table.converted tbody tr:hover {background: #BDF4B5;}table.converted td.rowLabel, table.converted th.rowLabel {display: none;}</style><table class=\"converted\"><tbody><tr><td>Java::FrLgi2aSimilar2logoKernelTools::MathUtil</td></tr></tbody></table>"
      ]
     },
     "execution_count": 1,
     "metadata": {},
     "output_type": "execute_result"
    }
   ],
   "source": [
    "#!ruby\n",
    "#@repository(\"~/.m2/repository/\")\n",
    "#@dependency(group=\"fr.lgi2a\", module=\"similar2logo-lib\", version=\"1.0-SNAPSHOT\")\n",
    "\n",
    "java_import 'fr.lgi2a.similar2logo.lib.tools.random.PRNG'\n",
    "java_import 'fr.lgi2a.similar.extendedkernel.libs.abstractimpl.AbstractAgtDecisionModel'\n",
    "java_import 'fr.lgi2a.similar.extendedkernel.simulationmodel.ISimulationParameters'\n",
    "java_import 'fr.lgi2a.similar.microkernel.AgentCategory'\n",
    "java_import 'fr.lgi2a.similar.microkernel.LevelIdentifier'\n",
    "java_import 'fr.lgi2a.similar.microkernel.SimulationTimeStamp'\n",
    "java_import 'fr.lgi2a.similar.microkernel.ISimulationModel'\n",
    "java_import 'fr.lgi2a.similar.microkernel.agents.IGlobalState'\n",
    "java_import 'fr.lgi2a.similar.microkernel.agents.ILocalStateOfAgent'\n",
    "java_import 'fr.lgi2a.similar.microkernel.agents.IPerceivedData'\n",
    "java_import 'fr.lgi2a.similar.microkernel.influences.InfluencesMap'\n",
    "java_import 'fr.lgi2a.similar.microkernel.levels.ILevel'\n",
    "java_import 'fr.lgi2a.similar2logo.kernel.initializations.AbstractLogoSimulationModel'\n",
    "java_import 'fr.lgi2a.similar2logo.kernel.model.LogoSimulationParameters'\n",
    "java_import 'fr.lgi2a.similar2logo.kernel.model.Parameter'\n",
    "java_import 'fr.lgi2a.similar2logo.kernel.model.agents.turtle.TurtleAgentCategory'\n",
    "java_import 'fr.lgi2a.similar2logo.kernel.model.agents.turtle.TurtleFactory'\n",
    "java_import 'fr.lgi2a.similar2logo.kernel.model.influences.ChangeDirection'\n",
    "java_import 'fr.lgi2a.similar2logo.kernel.model.influences.ChangeSpeed'\n",
    "java_import 'fr.lgi2a.similar2logo.kernel.model.levels.LogoSimulationLevelList'\n",
    "java_import 'fr.lgi2a.similar2logo.lib.model.ConeBasedPerceptionModel'\n",
    "java_import 'fr.lgi2a.similar2logo.lib.tools.html.Similar2LogoHtmlRunner'\n",
    "java_import 'fr.lgi2a.similar2logo.lib.tools.math.MeanAngle'\n",
    "java_import 'fr.lgi2a.similar2logo.kernel.tools.MathUtil'"
   ]
  },
  {
   "cell_type": "markdown",
   "metadata": {},
   "source": [
    "## Model parameters\n",
    "\n",
    "The model parameters and their default values are defined."
   ]
  },
  {
   "cell_type": "code",
   "execution_count": 2,
   "metadata": {},
   "outputs": [
    {
     "data": {
      "text/plain": [
       "No Outputs"
      ]
     },
     "execution_count": 2,
     "metadata": {},
     "output_type": "execute_result"
    }
   ],
   "source": [
    "class BoidsSimulationParameters < LogoSimulationParameters\n",
    "  \n",
    "  attr_accessor :repulsionDistance, :attractionDistance, :orientationDistance, :repulsionWeight, :orientationWeight, :attractionWeight, :maxInitialSpeed, :minInitialSpeed, :perceptionAngle, :nbOfAgents, :maxAngle\n",
    "  \n",
    "  def initialize\n",
    "    \n",
    "    @repulsionDistance = 1\n",
    "  \n",
    "    @orientationDistance  = 2\n",
    "\n",
    "    @attractionDistance = 4\n",
    "    \n",
    "    @repulsionWeight = 10\n",
    "    \n",
    "    @orientationWeight = 20\n",
    "    \n",
    "    @attractionWeight = 0.1\n",
    "  \n",
    "    @maxInitialSpeed = 2\n",
    "  \n",
    "    @minInitialSpeed = 1\n",
    "  \n",
    "    @perceptionAngle = Math::PI\n",
    "  \n",
    "    @nbOfAgents = 200\n",
    " \n",
    "    @maxAngle = Math::PI/4\n",
    "  end\n",
    "  \n",
    "end"
   ]
  },
  {
   "cell_type": "markdown",
   "metadata": {},
   "source": [
    "## Decision model\n",
    "\n",
    "The decision model consists in changing the direction and speed of the boids according to the previously described rules.\n",
    "To define a decision model, the modeler must define an object that extends `AbstractAgtDecisionModel` and implement the `decide` method."
   ]
  },
  {
   "cell_type": "code",
   "execution_count": 3,
   "metadata": {},
   "outputs": [
    {
     "data": {
      "text/plain": [
       "No Outputs"
      ]
     },
     "execution_count": 3,
     "metadata": {},
     "output_type": "execute_result"
    }
   ],
   "source": [
    "class BoidDecisionModel < AbstractAgtDecisionModel\n",
    "  \n",
    "  def initialize(parameters)\n",
    "    super(LogoSimulationLevelList::LOGO)\n",
    "    @parameters = parameters\n",
    "  end\n",
    "  \n",
    "  def decide(\n",
    "    timeLowerBound,\n",
    "    timeUpperBound,\n",
    "    globalState,\n",
    "    publicLocalState,\n",
    "    privateLocalState,\n",
    "    perceivedData,\n",
    "    producedInfluences\n",
    "  )\n",
    "    if !perceivedData.getTurtles.empty?\n",
    "      meanAngle = MeanAngle.new\n",
    "      orientationSpeed = 0\n",
    "      nbOfTurtlesInOrientationArea = 0\n",
    "      perceivedData.getTurtles.each do |perceivedTurtle|\n",
    "        if perceivedTurtle  != publicLocalState\n",
    "          if perceivedTurtle.getDistanceTo <= @parameters.repulsionDistance\n",
    "            meanAngle.add(publicLocalState.getDirection - perceivedTurtle.getDirectionTo, @parameters.repulsionWeight)\n",
    "          elsif perceivedTurtle.getDistanceTo <= @parameters.orientationDistance\n",
    "            meanAngle.add(perceivedTurtle.getContent.getDirection - publicLocalState.getDirection, @parameters.orientationWeight)\n",
    "            orientationSpeed+=perceivedTurtle.getContent.getSpeed - publicLocalState.getSpeed\n",
    "            nbOfTurtlesInOrientationArea+=1\n",
    "          elsif perceivedTurtle.getDistanceTo <= @parameters.attractionDistance\n",
    "            meanAngle.add(perceivedTurtle.getDirectionTo- publicLocalState.getDirection, @parameters.attractionWeight)\n",
    "          end\n",
    "        end\n",
    "      end\n",
    "      dd = meanAngle.value\n",
    "      if !MathUtil::areEqual(dd, 0)\n",
    "        if dd > @parameters.maxAngle\n",
    "          dd = @parameters.maxAngle\n",
    "        elsif dd<-@parameters.maxAngle\n",
    "          dd = -@parameters.maxAngle\n",
    "        end\n",
    "        producedInfluences.add(\n",
    "          ChangeDirection.new(\n",
    "           timeLowerBound,\n",
    "           timeUpperBound,\n",
    "           dd,\n",
    "           publicLocalState\n",
    "         )\n",
    "       )\n",
    "     end\n",
    "     if nbOfTurtlesInOrientationArea > 0\n",
    "        orientationSpeed /= nbOfTurtlesInOrientationArea\n",
    "        producedInfluences.add(\n",
    "          ChangeSpeed.new(\n",
    "            timeLowerBound,\n",
    "            timeUpperBound,\n",
    "            orientationSpeed,\n",
    "            publicLocalState\n",
    "          )\n",
    "        )\n",
    "     end\n",
    "    end\n",
    "  end\n",
    "end"
   ]
  },
  {
   "cell_type": "markdown",
   "metadata": {},
   "source": [
    "## The simulation model\n",
    "\n",
    "In the simulation model defined in our example, boids are randomly located in the environment with a random orientation and speed."
   ]
  },
  {
   "cell_type": "code",
   "execution_count": 4,
   "metadata": {},
   "outputs": [
    {
     "data": {
      "text/plain": [
       "No Outputs"
      ]
     },
     "execution_count": 4,
     "metadata": {},
     "output_type": "execute_result"
    }
   ],
   "source": [
    "class BoidsSimulationModel < AbstractLogoSimulationModel\n",
    "  def generateAgents(p, levels)\n",
    "     result =  AgentInitializationData.new\n",
    "     p.nbOfAgents.times do\n",
    "      result.getAgents.add(\n",
    "        TurtleFactory::generate(\n",
    "         ConeBasedPerceptionModel.new(p.attractionDistance,p.perceptionAngle,true,false,false),\n",
    "         BoidDecisionModel.new(p),\n",
    "         AgentCategory.new(\"b\", TurtleAgentCategory::CATEGORY),\n",
    "         Math::PI-PRNG::get.randomAngle,\n",
    "         p.minInitialSpeed + PRNG::get.randomDouble*(\n",
    "           p.maxInitialSpeed-p.minInitialSpeed\n",
    "         ),\n",
    "         0,\n",
    "         PRNG::get.randomDouble*p.gridWidth,\n",
    "         PRNG::get.randomDouble*p.gridHeight\n",
    "       )\n",
    "      )\n",
    "    end\n",
    "    return result\n",
    "  end\n",
    "end"
   ]
  },
  {
   "cell_type": "markdown",
   "metadata": {},
   "source": [
    "## Launch the HTML runner\n",
    "\n",
    "Finally, we launch and configure the HTML runner."
   ]
  },
  {
   "cell_type": "code",
   "execution_count": 5,
   "metadata": {},
   "outputs": [
    {
     "data": {
      "text/plain": [
       "No Outputs"
      ]
     },
     "execution_count": 5,
     "metadata": {},
     "output_type": "execute_result"
    }
   ],
   "source": [
    "runner = Similar2LogoHtmlRunner.new\n",
    "runner.config.setExportAgents(true)\n",
    "runner.initializeRunner(BoidsSimulationModel.new(BoidsSimulationParameters.new))\n",
    "runner.showView"
   ]
  }
 ],
 "metadata": {
  "kernelspec": {
   "display_name": "SciJava",
   "language": "groovy",
   "name": "scijava"
  },
  "language_info": {
   "codemirror_mode": "groovy",
   "file_extension": "",
   "mimetype": "",
   "name": "scijava",
   "nbconverter_exporter": "",
   "pygments_lexer": "groovy",
   "version": "1.0"
  }
 },
 "nbformat": 4,
 "nbformat_minor": 2
}
