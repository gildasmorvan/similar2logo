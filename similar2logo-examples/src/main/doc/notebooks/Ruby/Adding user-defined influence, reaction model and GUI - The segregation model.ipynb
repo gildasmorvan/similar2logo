{
 "cells": [
  {
   "cell_type": "markdown",
   "metadata": {},
   "source": [
    "# Adding user-defined influence, reaction model and GUI: The segregation model\n",
    "\n",
    "The segregation model has been proposed by [Thomas Schelling](https://en.wikipedia.org/wiki/Thomas_Schelling) in 1971 in his famous paper [Dynamic Models of Segregation](https://www.stat.berkeley.edu/~aldous/157/Papers/Schelling_Seg_Models.pdf). The goal of this model is to show that segregation can occur even if it is not wanted by the agents.\n",
    "\n",
    "In our implementation of this model, turtles are located in the grid and at each step, compute an happiness index based on the similarity of other agents in their neighborhood. If this index is below a value, called here similarity rate, the turtle wants to move to an other location."
   ]
  },
  {
   "cell_type": "markdown",
   "metadata": {},
   "source": [
    "## Grab dependencies"
   ]
  },
  {
   "cell_type": "code",
   "execution_count": 2,
   "metadata": {},
   "outputs": [
    {
     "name": "stderr",
     "output_type": "stream",
     "text": [
      "Resolving dependency: fr.univ_artois.lgi2a#similar2logo-lib;1.0-SNAPSHOT {default=[default]}\n",
      "Preparing to download artifact fr.univ_artois.lgi2a#similar2logo-lib;1.0-SNAPSHOT!similar2logo-lib.jar\n",
      "Preparing to download artifact fr.univ_artois.lgi2a#similar2logo-kernel;1.0-SNAPSHOT!similar2logo-kernel.jar\n",
      "Preparing to download artifact com.sparkjava#spark-core;2.7.2!spark-core.jar(bundle)\n",
      "Preparing to download artifact org.slf4j#slf4j-simple;1.7.13!slf4j-simple.jar\n",
      "Preparing to download artifact org.apache.commons#commons-math3;3.6.1!commons-math3.jar\n",
      "Preparing to download artifact fr.univ_artois.lgi2a#similar-microKernel;1.0-SNAPSHOT!similar-microKernel.jar\n",
      "Preparing to download artifact fr.univ_artois.lgi2a#similar-microKernel-commonLibs;1.0-SNAPSHOT!similar-microKernel-commonLibs.jar\n",
      "Preparing to download artifact fr.univ_artois.lgi2a#similar-extendedKernel;1.0-SNAPSHOT!similar-extendedKernel.jar\n",
      "Preparing to download artifact fr.univ_artois.lgi2a#similar-extendedKernel-extendedLibs;1.0-SNAPSHOT!similar-extendedKernel-extendedLibs.jar\n",
      "Preparing to download artifact org.json#json;20170516!json.jar(bundle)\n",
      "Preparing to download artifact net.jafama#jafama;2.3.1!jafama.jar\n",
      "Preparing to download artifact org.slf4j#slf4j-api;1.7.13!slf4j-api.jar\n",
      "Preparing to download artifact org.eclipse.jetty#jetty-server;9.4.8.v20171121!jetty-server.jar\n",
      "Preparing to download artifact org.eclipse.jetty#jetty-webapp;9.4.8.v20171121!jetty-webapp.jar\n",
      "Preparing to download artifact org.eclipse.jetty.websocket#websocket-server;9.4.8.v20171121!websocket-server.jar\n",
      "Preparing to download artifact org.eclipse.jetty.websocket#websocket-servlet;9.4.8.v20171121!websocket-servlet.jar\n",
      "Preparing to download artifact javax.servlet#javax.servlet-api;3.1.0!javax.servlet-api.jar\n",
      "Preparing to download artifact org.eclipse.jetty#jetty-http;9.4.8.v20171121!jetty-http.jar\n",
      "Preparing to download artifact org.eclipse.jetty#jetty-io;9.4.8.v20171121!jetty-io.jar\n",
      "Preparing to download artifact org.eclipse.jetty#jetty-util;9.4.8.v20171121!jetty-util.jar\n",
      "Preparing to download artifact org.eclipse.jetty#jetty-xml;9.4.8.v20171121!jetty-xml.jar\n",
      "Preparing to download artifact org.eclipse.jetty#jetty-servlet;9.4.8.v20171121!jetty-servlet.jar\n",
      "Preparing to download artifact org.eclipse.jetty#jetty-security;9.4.8.v20171121!jetty-security.jar\n",
      "Preparing to download artifact org.eclipse.jetty.websocket#websocket-common;9.4.8.v20171121!websocket-common.jar\n",
      "Preparing to download artifact org.eclipse.jetty.websocket#websocket-client;9.4.8.v20171121!websocket-client.jar\n",
      "Preparing to download artifact org.eclipse.jetty.websocket#websocket-api;9.4.8.v20171121!websocket-api.jar\n",
      "Preparing to download artifact org.eclipse.jetty#jetty-client;9.4.8.v20171121!jetty-client.jar\n"
     ]
    },
    {
     "data": {
      "text/html": [
       "<style>table.converted {color: #333; font-family: Helvetica, Arial, sans-serif; border-collapse: collapse; border-spacing: 0;}table.converted td, table.converted th {border: 1px solid #C9C7C7;}table.converted th, table.converted td.rowLabel {background: #626262; color: #FFFFFF; font-weight: bold; text-align: left;}table.converted td {text-align: left;}table.converted tr:nth-child(even) {background: #F3F3F3;}table.converted tr:nth-child(odd) {background: #FFFFFF;}table.converted tbody tr:hover {background: #BDF4B5;}table.converted td.rowLabel, table.converted th.rowLabel {display: none;}</style><table class=\"converted\"><tbody><tr><td>Java::FrLgi2aSimilar2logoLibToolsRandom::PRNG</td></tr></tbody></table>"
      ]
     },
     "execution_count": 2,
     "metadata": {},
     "output_type": "execute_result"
    }
   ],
   "source": [
    "#!ruby\n",
    "#@repository(\"~/.m2/repository/\")\n",
    "#@dependency(group=\"fr.univ-artois.lgi2a\", module=\"similar2logo-lib\", version=\"1.0-SNAPSHOT\")\n",
    "\n",
    "java_import 'java.util.LinkedList'\n",
    "java_import 'java.awt.geom.Point2D'\n",
    "java_import 'java.util.ArrayList'\n",
    "java_import 'fr.univ_artois.lgi2a.similar.extendedkernel.levels.ExtendedLevel'\n",
    "java_import 'fr.univ_artois.lgi2a.similar.extendedkernel.libs.abstractimpl.AbstractAgtDecisionModel'\n",
    "java_import 'fr.univ_artois.lgi2a.similar.extendedkernel.libs.timemodel.PeriodicTimeModel'\n",
    "java_import 'fr.univ_artois.lgi2a.similar.extendedkernel.simulationmodel.ISimulationParameters'\n",
    "java_import 'fr.univ_artois.lgi2a.similar.microkernel.AgentCategory'\n",
    "java_import 'fr.univ_artois.lgi2a.similar.microkernel.LevelIdentifier'\n",
    "java_import 'fr.univ_artois.lgi2a.similar.microkernel.SimulationTimeStamp'\n",
    "java_import 'fr.univ_artois.lgi2a.similar.microkernel.agents.IGlobalState'\n",
    "java_import 'fr.univ_artois.lgi2a.similar.microkernel.agents.ILocalStateOfAgent'\n",
    "java_import 'fr.univ_artois.lgi2a.similar.microkernel.agents.IPerceivedData'\n",
    "java_import 'fr.univ_artois.lgi2a.similar.microkernel.dynamicstate.ConsistentPublicLocalDynamicState'\n",
    "java_import 'fr.univ_artois.lgi2a.similar.microkernel.influences.IInfluence'\n",
    "java_import 'fr.univ_artois.lgi2a.similar.microkernel.influences.InfluencesMap'\n",
    "java_import 'fr.univ_artois.lgi2a.similar.microkernel.influences.RegularInfluence'\n",
    "java_import 'fr.univ_artois.lgi2a.similar.microkernel.levels.ILevel'\n",
    "java_import 'fr.univ_artois.lgi2a.similar2logo.kernel.initializations.AbstractLogoSimulationModel'\n",
    "java_import 'fr.univ_artois.lgi2a.similar2logo.kernel.model.LogoSimulationParameters'\n",
    "java_import 'fr.univ_artois.lgi2a.similar2logo.kernel.model.Parameter'\n",
    "java_import 'fr.univ_artois.lgi2a.similar2logo.kernel.model.agents.turtle.TurtleAgentCategory'\n",
    "java_import 'fr.univ_artois.lgi2a.similar2logo.kernel.model.agents.turtle.TurtleFactory'\n",
    "java_import 'fr.univ_artois.lgi2a.similar2logo.kernel.model.agents.turtle.TurtlePLSInLogo'\n",
    "java_import 'fr.univ_artois.lgi2a.similar2logo.kernel.model.environment.LogoEnvPLS'\n",
    "java_import 'fr.univ_artois.lgi2a.similar2logo.kernel.model.levels.LogoSimulationLevelList'\n",
    "java_import 'fr.univ_artois.lgi2a.similar2logo.kernel.model.levels.LogoDefaultReactionModel'\n",
    "java_import 'fr.univ_artois.lgi2a.similar2logo.lib.model.ConeBasedPerceptionModel'\n",
    "java_import 'fr.univ_artois.lgi2a.similar2logo.lib.tools.html.Similar2LogoHtmlRunner'\n",
    "java_import 'fr.univ_artois.lgi2a.similar.extendedkernel.libs.random.PRNG'"
   ]
  },
  {
   "cell_type": "markdown",
   "metadata": {},
   "source": [
    "## Model parameters\n",
    "\n",
    "We define the following parameters and their default values."
   ]
  },
  {
   "cell_type": "code",
   "execution_count": 3,
   "metadata": {},
   "outputs": [
    {
     "data": {
      "text/plain": [
       "No Outputs"
      ]
     },
     "execution_count": 3,
     "metadata": {},
     "output_type": "execute_result"
    }
   ],
   "source": [
    "class SegregationSimulationParameters < LogoSimulationParameters\n",
    "  \n",
    "  attr_accessor :similarityRate, :vacancyRate, :perceptionDistance\n",
    "  def initialize\n",
    "    \n",
    "    @similarityRate = 3.0/8\n",
    "  \n",
    "    @vacancyRate = 0.05\n",
    "  \n",
    "    @perceptionDistance = Math::sqrt(2)\n",
    "  end\n",
    "  \n",
    "end"
   ]
  },
  {
   "cell_type": "markdown",
   "metadata": {},
   "source": [
    "## Model-specific influence\n",
    "\n",
    "We define an influence called `Move` that is emitted by an agent who wants to move to another location. It is defined by a  unique identifier, here \"move\", and the state of the turtle that wants to move."
   ]
  },
  {
   "cell_type": "code",
   "execution_count": 4,
   "metadata": {},
   "outputs": [
    {
     "data": {
      "text/plain": [
       "No Outputs"
      ]
     },
     "execution_count": 4,
     "metadata": {},
     "output_type": "execute_result"
    }
   ],
   "source": [
    "class Move < RegularInfluence\n",
    "  \n",
    "  attr_accessor :target\n",
    "  def initialize( s, ns, target)\n",
    "    super(\"move\", LogoSimulationLevelList::LOGO, s, ns)\n",
    "    @target = target\n",
    "  end\n",
    "  \n",
    "end"
   ]
  },
  {
   "cell_type": "markdown",
   "metadata": {},
   "source": [
    "## Decision model\n",
    "\n",
    "The decision model computes a happiness index based on the rate of turtles of different categories in its neighborhood. If the index is below the parameter `similarityRate`, the turtle emits a `Move` influence."
   ]
  },
  {
   "cell_type": "code",
   "execution_count": 5,
   "metadata": {},
   "outputs": [
    {
     "data": {
      "text/plain": [
       "No Outputs"
      ]
     },
     "execution_count": 5,
     "metadata": {},
     "output_type": "execute_result"
    }
   ],
   "source": [
    "class SegregationAgentDecisionModel < AbstractAgtDecisionModel\n",
    "  \n",
    "  def initialize(parameters)\n",
    "    super(LogoSimulationLevelList::LOGO)\n",
    "    @parameters = parameters\n",
    "  end\n",
    "  \n",
    "  def decide(\n",
    "    timeLowerBound,\n",
    "    timeUpperBound,\n",
    "    globalState,\n",
    "    publicLocalState,\n",
    "    privateLocalState,\n",
    "    perceivedData,\n",
    "    producedInfluences\n",
    "  )\n",
    "    sr = 0.0\n",
    "    perceivedData.turtles.each do |perceivedTurtle|\n",
    "      if perceivedTurtle.content.categoryOfAgent.isA(publicLocalState.categoryOfAgent)\n",
    "        sr+=1.0\n",
    "      end\n",
    "    end\n",
    "    if !perceivedData.turtles.empty\n",
    "      sr/= perceivedData.turtles.size\n",
    "    end\n",
    "    if sr < @parameters.similarityRate\n",
    "      producedInfluences.add(Move.new(timeLowerBound, timeUpperBound, publicLocalState))\n",
    "    end\n",
    "  end\n",
    "end"
   ]
  },
  {
   "cell_type": "markdown",
   "metadata": {},
   "source": [
    "## Reaction model\n",
    "\n",
    "The reaction model handles the `Move` influences emitted by unhappy turtles. First, it identifies vacant places and moves the turtles that have emitted a `Move` influence. Note that if there is not enough vacant places, not all turtle wishes can be fulfilled."
   ]
  },
  {
   "cell_type": "code",
   "execution_count": 6,
   "metadata": {},
   "outputs": [
    {
     "data": {
      "text/plain": [
       "No Outputs"
      ]
     },
     "execution_count": 6,
     "metadata": {},
     "output_type": "execute_result"
    }
   ],
   "source": [
    "class SegregationReactionModel < LogoDefaultReactionModel\n",
    "  def makeRegularReaction(\n",
    "      transitoryTimeMin,\n",
    "      transitoryTimeMax,\n",
    "      consistentState,\n",
    "      regularInfluencesOftransitoryStateDynamics,\n",
    "      remainingInfluences\n",
    "    )\n",
    "    if regularInfluencesOftransitoryStateDynamics.size > 2\n",
    "      specificInfluences = ArrayList.new\n",
    "      vacantPlaces = ArrayList.new\n",
    "      specificInfluences.addAll(regularInfluencesOftransitoryStateDynamics)\n",
    "      PRNG::get.shuffle(specificInfluences)\n",
    "      for x in 0..consistentState.publicLocalStateOfEnvironment.width()-1\n",
    "        for y in 0..consistentState.publicLocalStateOfEnvironment.height()-1\n",
    "          if consistentState.publicLocalStateOfEnvironment.getTurtlesAt(x, y).empty?\n",
    "            vacantPlaces.add(Point2D::Double.new(x,y))\n",
    "          end\n",
    "        end\n",
    "      end\n",
    "      PRNG::get.shuffle(vacantPlaces)\n",
    "      i = 0\n",
    "      specificInfluences.each do |influence|\n",
    "        if influence.getCategory() == \"move\"\n",
    "          consistentState.publicLocalStateOfEnvironment.turtlesInPatches[influence.target.location.x.floor][influence.target.location.y.floor].clear()\n",
    "          consistentState.publicLocalStateOfEnvironment.turtlesInPatches[vacantPlaces[i].x.floor][vacantPlaces[i].y.floor].add(influence.target)\n",
    "          influence.target.setLocation(vacantPlaces[i])\n",
    "          i+=1      \n",
    "        end\n",
    "        if i >= vacantPlaces.size\n",
    "          break\n",
    "        end\n",
    "      end\n",
    "    end\n",
    "  end \n",
    "end"
   ]
  },
  {
   "cell_type": "markdown",
   "metadata": {},
   "source": [
    "## Simulation model\n",
    "\n",
    "The simulation model generates the Logo level using the user-defined reaction model and a simple periodic time model. It also generates turtles of 2 different types (a and b) randomly in the grid with respect to the vacancy rate parameter."
   ]
  },
  {
   "cell_type": "code",
   "execution_count": 7,
   "metadata": {},
   "outputs": [
    {
     "data": {
      "text/plain": [
       "No Outputs"
      ]
     },
     "execution_count": 7,
     "metadata": {},
     "output_type": "execute_result"
    }
   ],
   "source": [
    "class SegregationSimulationModel < AbstractLogoSimulationModel\n",
    "  def generateLevels(p)\n",
    "    logo = ExtendedLevel.new(\n",
    "      p.initialTime,\n",
    "      LogoSimulationLevelList::LOGO,\n",
    "      PeriodicTimeModel.new(1,0, p.initialTime),\n",
    "      SegregationReactionModel.new\n",
    "    )\n",
    "    levelList = LinkedList.new\n",
    "    levelList.add(logo)\n",
    "    return levelList\n",
    "  end\n",
    "  def generateAgents(p, levels)\n",
    "     result =  AgentInitializationData.new\n",
    "     t = \"\"\n",
    "    for x in 0...p.gridWidth-1\n",
    "      for y in 0..p.gridHeight-1\n",
    "        if PRNG::get.randomDouble >= p.vacancyRate\n",
    "          if PRNG::get.randomBoolean\n",
    "            t = \"a\"\n",
    "          else\n",
    "            t = \"b\"\n",
    "          end\n",
    "          turtle = TurtleFactory.generate(\n",
    "            ConeBasedPerceptionModel.new(p.perceptionDistance, 2*Math::PI, true, false, false),\n",
    "            SegregationAgentDecisionModel.new(p),\n",
    "            AgentCategory.new(t, TurtleAgentCategory::CATEGORY),\n",
    "            0,\n",
    "            0,\n",
    "            0,\n",
    "            x,\n",
    "            y\n",
    "          )\n",
    "          result.agents.add( turtle )\n",
    "        end  \n",
    "      end\n",
    "    end\n",
    "    return result\n",
    "  end\n",
    "end"
   ]
  },
  {
   "cell_type": "markdown",
   "metadata": {},
   "source": [
    "## Launch the HTML runner\n",
    "\n",
    "The GUI is defined in a variable called `segregationgui`. Finally, we launch the web server with the above described GUI."
   ]
  },
  {
   "cell_type": "code",
   "execution_count": 10,
   "metadata": {},
   "outputs": [
    {
     "data": {
      "text/plain": [
       "No Outputs"
      ]
     },
     "execution_count": 10,
     "metadata": {},
     "output_type": "execute_result"
    }
   ],
   "source": [
    "segregationgui = %{\n",
    "    <canvas id='grid_canvas' class='center-block' width='400' height='400'></canvas>\n",
    "    <script type='text/javascript'>\n",
    "        drawCanvas = function (data) {\n",
    "            var json = JSON.parse(data),\n",
    "                canvas = document.getElementById('grid_canvas'),\n",
    "                context = canvas.getContext('2d');\n",
    "            context.clearRect(0, 0, canvas.width, canvas.height);\n",
    "            for (var i = 0; i < json.agents.length; i++) {\n",
    "                var centerX = json.agents[i].x * canvas.width;\n",
    "                var centerY = json.agents[i].y * canvas.height;\n",
    "                var radius = 2;\n",
    "                if (json.agents[i].t == 'a') {\n",
    "                    context.fillStyle = 'red';\n",
    "                } else {\n",
    "                    context.fillStyle = 'blue';\n",
    "                }\n",
    "                context.beginPath();\n",
    "                context.arc(centerX, centerY, radius, 0, 2 * Math.PI, false);\n",
    "                context.fill();\n",
    "            }\n",
    "        }\n",
    "</script>}\n",
    "runner = Similar2LogoHtmlRunner.new\n",
    "runner.config.setCustomHtmlBodyFromString(segregationgui)\n",
    "runner.config.setExportAgents(true)\n",
    "runner.initializeRunner(SegregationSimulationModel.new(SegregationSimulationParameters.new))\n",
    "runner.showView"
   ]
  }
 ],
 "metadata": {
  "kernelspec": {
   "display_name": "SciJava",
   "language": "groovy",
   "name": "scijava"
  },
  "language_info": {
   "codemirror_mode": "groovy",
   "file_extension": "",
   "mimetype": "",
   "name": "scijava",
   "nbconverter_exporter": "",
   "pygments_lexer": "groovy",
   "version": "1.0"
  }
 },
 "nbformat": 4,
 "nbformat_minor": 2
}
