{
 "cells": [
  {
   "cell_type": "markdown",
   "metadata": {},
   "source": [
    "# A first example with a passive turtle\n",
    "\n",
    "First we consider a simple example with a single passive agent.\n",
    "    \n",
    "## Grab dependencies"
   ]
  },
  {
   "cell_type": "code",
   "execution_count": 3,
   "metadata": {},
   "outputs": [
    {
     "data": {
      "text/html": [
       "<style>table.converted {color: #333; font-family: Helvetica, Arial, sans-serif; border-collapse: collapse; border-spacing: 0;}table.converted td, table.converted th {border: 1px solid #C9C7C7;}table.converted th, table.converted td.rowLabel {background: #626262; color: #FFFFFF; font-weight: bold; text-align: left;}table.converted td {text-align: left;}table.converted tr:nth-child(even) {background: #F3F3F3;}table.converted tr:nth-child(odd) {background: #FFFFFF;}table.converted tbody tr:hover {background: #BDF4B5;}table.converted td.rowLabel, table.converted th.rowLabel {display: none;}</style><table class=\"converted\"><tbody><tr><td>Java::FrUniv&#8203;_artoisLgi2aSimilar2logoLibToolsWeb::Similar2LogoWebRunner</td></tr></tbody></table>"
      ]
     },
     "execution_count": 3,
     "metadata": {},
     "output_type": "execute_result"
    }
   ],
   "source": [
    "#!ruby\n",
    "#@repository(\"~/.m2/repository/\")\n",
    "#@dependency(group=\"fr.univ-artois.lgi2a\", module=\"similar2logo-lib\", version=\"1.0-SNAPSHOT\")\n",
    "\n",
    "java_import 'java.lang.Double'\n",
    "java_import 'fr.univ_artois.lgi2a.similar.extendedkernel.simulationmodel.ISimulationParameters'\n",
    "java_import 'fr.univ_artois.lgi2a.similar.microkernel.AgentCategory'\n",
    "java_import 'fr.univ_artois.lgi2a.similar.microkernel.LevelIdentifier'\n",
    "java_import 'fr.univ_artois.lgi2a.similar.microkernel.SimulationTimeStamp'\n",
    "java_import 'fr.univ_artois.lgi2a.similar.microkernel.ISimulationModel'\n",
    "java_import 'fr.univ_artois.lgi2a.similar.microkernel.agents.IAgent4Engine'\n",
    "java_import 'fr.univ_artois.lgi2a.similar.microkernel.levels.ILevel'\n",
    "java_import 'fr.univ_artois.lgi2a.similar2logo.kernel.initializations.AbstractLogoSimulationModel'\n",
    "java_import 'fr.univ_artois.lgi2a.similar2logo.kernel.model.LogoSimulationParameters'\n",
    "java_import 'fr.univ_artois.lgi2a.similar2logo.kernel.model.agents.turtle.TurtleAgentCategory'\n",
    "java_import 'fr.univ_artois.lgi2a.similar2logo.kernel.model.agents.turtle.TurtleFactory'\n",
    "java_import 'fr.univ_artois.lgi2a.similar2logo.kernel.model.environment.LogoEnvPLS'\n",
    "java_import 'fr.univ_artois.lgi2a.similar2logo.lib.model.PassiveTurtleDecisionModel'\n",
    "java_import 'fr.univ_artois.lgi2a.similar2logo.lib.model.EmptyPerceptionModel'\n",
    "java_import 'fr.univ_artois.lgi2a.similar.microkernel.libs.probes.RealTimeMatcherProbe'\n",
    "java_import 'fr.univ_artois.lgi2a.similar2logo.lib.tools.web.Similar2LogoWebRunner'"
   ]
  },
  {
   "cell_type": "markdown",
   "metadata": {},
   "source": [
    "## Simulation parameters\n",
    "\n",
    "Foremost, we define the parameter class of the model by creating an object that inherits from `LogoSimulationParameters`, that contains the generic parameters of a Logo-like simulation (environment size, topology, etc.)."
   ]
  },
  {
   "cell_type": "code",
   "execution_count": 4,
   "metadata": {},
   "outputs": [
    {
     "data": {
      "text/plain": [
       "No Outputs"
      ]
     },
     "execution_count": 4,
     "metadata": {},
     "output_type": "execute_result"
    }
   ],
   "source": [
    "class PassiveSimulationParameters < LogoSimulationParameters\n",
    "  \n",
    "  attr_accessor :initialX, :initialY, :initialSpeed, :initialAcceleration, :initialDirection\n",
    "  \n",
    "  def initialize\n",
    "    \n",
    "    @initialX = 10\n",
    "  \n",
    "    @initialY = 10\n",
    "  \n",
    "    @initialSpeed = 1\n",
    "  \n",
    "    @initialAcceleration = 0\n",
    "  \n",
    "    @initialDirection = LogoEnvPLS::NORTH \n",
    "    \n",
    "  end\n",
    "  \n",
    "end"
   ]
  },
  {
   "cell_type": "markdown",
   "metadata": {},
   "source": [
    "## Simulation model\n",
    "\n",
    "Then, we define the simulation model model, i.e, the initial state of the simulation from the `AbstractLogoSimulationModel` class. We must implement the `generateAgents` method to describe the initial state of our passive turtle."
   ]
  },
  {
   "cell_type": "code",
   "execution_count": 5,
   "metadata": {},
   "outputs": [
    {
     "data": {
      "text/plain": [
       "No Outputs"
      ]
     },
     "execution_count": 5,
     "metadata": {},
     "output_type": "execute_result"
    }
   ],
   "source": [
    "class PassiveSimulationModel < AbstractLogoSimulationModel\n",
    "  def generateAgents(p, levels)\n",
    "    result =  AgentInitializationData.new\n",
    "    turtle = TurtleFactory::generate(\n",
    "      EmptyPerceptionModel.new,\n",
    "      PassiveTurtleDecisionModel.new,\n",
    "      AgentCategory.new(\"passive\", TurtleAgentCategory::CATEGORY),\n",
    "      p.initialDirection,\n",
    "      p.initialSpeed,\n",
    "      p.initialAcceleration,\n",
    "      p.initialX,\n",
    "      p.initialY\n",
    "    )\n",
    "    result.agents.add(turtle)\n",
    "    return result\n",
    "  end\n",
    "end"
   ]
  },
  {
   "cell_type": "markdown",
   "metadata": {},
   "source": [
    "## Launch the HTML runner\n",
    "\n",
    "We can now instanciate the parameters and the simulation model. Then we launch and configure the HTML runner. Here, only the turtles are displayed. Finally, the probe `LogoRealTimeMatcher` is added to the server to slow down the simulation so that its execution speed matches a specific factor of N steps per second."
   ]
  },
  {
   "cell_type": "code",
   "execution_count": 6,
   "metadata": {},
   "outputs": [
    {
     "data": {
      "text/plain": [
       "No Outputs"
      ]
     },
     "execution_count": 6,
     "metadata": {},
     "output_type": "execute_result"
    }
   ],
   "source": [
    "simulationParameters = PassiveSimulationParameters.new\n",
    "simulationModel = PassiveSimulationModel.new(simulationParameters)\n",
    "runner = Similar2LogoWebRunner.new\n",
    "runner.config.setExportAgents(true)\n",
    "runner.initializeRunner(simulationModel)\n",
    "runner.showView\n",
    "runner.addProbe(\"Real time matcher\", RealTimeMatcherProbe.new(20))"
   ]
  },
  {
   "cell_type": "code",
   "execution_count": null,
   "metadata": {},
   "outputs": [],
   "source": []
  }
 ],
 "metadata": {
  "kernelspec": {
   "display_name": "SciJava",
   "language": "groovy",
   "name": "scijava"
  },
  "language_info": {
   "codemirror_mode": "groovy",
   "file_extension": "",
   "mimetype": "",
   "name": "scijava",
   "nbconverter_exporter": "",
   "pygments_lexer": "groovy",
   "version": "1.0"
  }
 },
 "nbformat": 4,
 "nbformat_minor": 2
}
