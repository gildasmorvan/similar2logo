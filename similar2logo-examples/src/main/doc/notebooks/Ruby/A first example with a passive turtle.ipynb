{
 "cells": [
  {
   "cell_type": "markdown",
   "metadata": {},
   "source": [
    "# A first example with a passive turtle\n",
    "\n",
    "First we consider a simple example with a single passive agent.\n",
    "    \n",
    "## Grab dependencies"
   ]
  },
  {
   "cell_type": "code",
   "execution_count": 1,
   "metadata": {},
   "outputs": [
    {
     "name": "stderr",
     "output_type": "stream",
     "text": [
      "Resolving dependency: fr.univ-artois.lgi2a#similar2logo-lib;1.0-SNAPSHOT {default=[default]}\n",
      "Preparing to download artifact fr.univ-artois.lgi2a#similar2logo-lib;1.0-SNAPSHOT!similar2logo-lib.jar\n",
      "Preparing to download artifact fr.univ-artois.lgi2a#similar2logo-kernel;1.0-SNAPSHOT!similar2logo-kernel.jar\n",
      "Preparing to download artifact com.sparkjava#spark-core;2.8.0!spark-core.jar(bundle)\n",
      "Preparing to download artifact org.slf4j#slf4j-api;1.7.25!slf4j-api.jar\n",
      "Preparing to download artifact org.slf4j#jul-to-slf4j;1.7.25!jul-to-slf4j.jar\n",
      "Preparing to download artifact org.slf4j#jcl-over-slf4j;1.7.25!jcl-over-slf4j.jar\n",
      "Preparing to download artifact org.slf4j#log4j-over-slf4j;1.7.25!log4j-over-slf4j.jar\n",
      "Preparing to download artifact org.slf4j#slf4j-jdk14;1.7.25!slf4j-jdk14.jar\n",
      "Preparing to download artifact org.apache.commons#commons-math3;3.6.1!commons-math3.jar\n",
      "Preparing to download artifact fr.univ-artois.lgi2a#similar-microKernel;1.0-SNAPSHOT!similar-microKernel.jar\n",
      "Preparing to download artifact fr.univ-artois.lgi2a#similar-microKernel-commonLibs;1.0-SNAPSHOT!similar-microKernel-commonLibs.jar\n",
      "Preparing to download artifact fr.univ-artois.lgi2a#similar-extendedKernel;1.0-SNAPSHOT!similar-extendedKernel.jar\n",
      "Preparing to download artifact fr.univ-artois.lgi2a#similar-extendedKernel-extendedLibs;1.0-SNAPSHOT!similar-extendedKernel-extendedLibs.jar\n",
      "Preparing to download artifact org.json#json;20170516!json.jar(bundle)\n",
      "Preparing to download artifact net.jafama#jafama;2.3.1!jafama.jar\n",
      "Preparing to download artifact org.eclipse.jetty#jetty-server;9.4.12.v20180830!jetty-server.jar\n",
      "Preparing to download artifact org.eclipse.jetty#jetty-webapp;9.4.12.v20180830!jetty-webapp.jar\n",
      "Preparing to download artifact org.eclipse.jetty.websocket#websocket-server;9.4.12.v20180830!websocket-server.jar\n",
      "Preparing to download artifact org.eclipse.jetty.websocket#websocket-servlet;9.4.12.v20180830!websocket-servlet.jar\n",
      "Preparing to download artifact javax.servlet#javax.servlet-api;3.1.0!javax.servlet-api.jar\n",
      "Preparing to download artifact org.eclipse.jetty#jetty-http;9.4.12.v20180830!jetty-http.jar\n",
      "Preparing to download artifact org.eclipse.jetty#jetty-io;9.4.12.v20180830!jetty-io.jar\n",
      "Preparing to download artifact org.eclipse.jetty#jetty-util;9.4.12.v20180830!jetty-util.jar\n",
      "Preparing to download artifact org.eclipse.jetty#jetty-xml;9.4.12.v20180830!jetty-xml.jar\n",
      "Preparing to download artifact org.eclipse.jetty#jetty-servlet;9.4.12.v20180830!jetty-servlet.jar\n",
      "Preparing to download artifact org.eclipse.jetty#jetty-security;9.4.12.v20180830!jetty-security.jar\n",
      "Preparing to download artifact org.eclipse.jetty.websocket#websocket-common;9.4.12.v20180830!websocket-common.jar\n",
      "Preparing to download artifact org.eclipse.jetty.websocket#websocket-client;9.4.12.v20180830!websocket-client.jar\n",
      "Preparing to download artifact org.eclipse.jetty.websocket#websocket-api;9.4.12.v20180830!websocket-api.jar\n",
      "Preparing to download artifact org.eclipse.jetty#jetty-client;9.4.12.v20180830!jetty-client.jar\n"
     ]
    },
    {
     "data": {
      "text/html": [
       "<style>table.converted {color: #333; font-family: Helvetica, Arial, sans-serif; border-collapse: collapse; border-spacing: 0;}table.converted td, table.converted th {border: 1px solid #C9C7C7;}table.converted th, table.converted td.rowLabel {background: #626262; color: #FFFFFF; font-weight: bold; text-align: left;}table.converted td {text-align: left;}table.converted tr:nth-child(even) {background: #F3F3F3;}table.converted tr:nth-child(odd) {background: #FFFFFF;}table.converted tbody tr:hover {background: #BDF4B5;}table.converted td.rowLabel, table.converted th.rowLabel {display: none;}</style><table class=\"converted\"><tbody><tr><td>Java::FrUniv&#8203;_artoisLgi2aSimilar2logoLibToolsHtml::Similar2LogoHtmlRunner</td></tr></tbody></table>"
      ]
     },
     "execution_count": 1,
     "metadata": {},
     "output_type": "execute_result"
    }
   ],
   "source": [
    "#!ruby\n",
    "#@repository(\"~/.m2/repository/\")\n",
    "#@dependency(group=\"fr.univ-artois.lgi2a\", module=\"similar2logo-lib\", version=\"1.0-SNAPSHOT\")\n",
    "\n",
    "java_import 'java.lang.Double'\n",
    "java_import 'fr.univ_artois.lgi2a.similar.extendedkernel.simulationmodel.ISimulationParameters'\n",
    "java_import 'fr.univ_artois.lgi2a.similar.microkernel.AgentCategory'\n",
    "java_import 'fr.univ_artois.lgi2a.similar.microkernel.LevelIdentifier'\n",
    "java_import 'fr.univ_artois.lgi2a.similar.microkernel.SimulationTimeStamp'\n",
    "java_import 'fr.univ_artois.lgi2a.similar.microkernel.ISimulationModel'\n",
    "java_import 'fr.univ_artois.lgi2a.similar.microkernel.agents.IAgent4Engine'\n",
    "java_import 'fr.univ_artois.lgi2a.similar.microkernel.levels.ILevel'\n",
    "java_import 'fr.univ_artois.lgi2a.similar2logo.kernel.initializations.AbstractLogoSimulationModel'\n",
    "java_import 'fr.univ_artois.lgi2a.similar2logo.kernel.model.Parameter'\n",
    "java_import 'fr.univ_artois.lgi2a.similar2logo.kernel.model.LogoSimulationParameters'\n",
    "java_import 'fr.univ_artois.lgi2a.similar2logo.kernel.model.agents.turtle.TurtleAgentCategory'\n",
    "java_import 'fr.univ_artois.lgi2a.similar2logo.kernel.model.agents.turtle.TurtleFactory'\n",
    "java_import 'fr.univ_artois.lgi2a.similar2logo.kernel.model.environment.LogoEnvPLS'\n",
    "java_import 'fr.univ_artois.lgi2a.similar2logo.lib.model.PassiveTurtleDecisionModel'\n",
    "java_import 'fr.univ_artois.lgi2a.similar2logo.lib.model.EmptyPerceptionModel'\n",
    "java_import 'fr.univ_artois.lgi2a.similar2logo.lib.probes.LogoRealTimeMatcher'\n",
    "java_import 'fr.univ_artois.lgi2a.similar2logo.lib.tools.html.Similar2LogoWebRunner'"
   ]
  },
  {
   "cell_type": "markdown",
   "metadata": {},
   "source": [
    "## Simulation parameters\n",
    "\n",
    "Foremost, we define the parameter class of the model by creating an object that inherits from `LogoSimulationParameters`, that contains the generic parameters of a Logo-like simulation (environment size, topology, etc.)."
   ]
  },
  {
   "cell_type": "code",
   "execution_count": 2,
   "metadata": {},
   "outputs": [
    {
     "data": {
      "text/plain": [
       "No Outputs"
      ]
     },
     "execution_count": 2,
     "metadata": {},
     "output_type": "execute_result"
    }
   ],
   "source": [
    "class PassiveSimulationParameters < LogoSimulationParameters\n",
    "  \n",
    "  attr_accessor :initialX, :initialY, :initialSpeed, :initialAcceleration, :initialDirection\n",
    "  \n",
    "  def initialize\n",
    "    \n",
    "    @initialX = 10\n",
    "  \n",
    "    @initialY = 10\n",
    "  \n",
    "    @initialSpeed = 1\n",
    "  \n",
    "    @initialAcceleration = 0\n",
    "  \n",
    "    @initialDirection = LogoEnvPLS::NORTH \n",
    "    \n",
    "  end\n",
    "  \n",
    "end"
   ]
  },
  {
   "cell_type": "markdown",
   "metadata": {},
   "source": [
    "## Simulation model\n",
    "\n",
    "Then, we define the simulation model model, i.e, the initial state of the simulation from the `AbstractLogoSimulationModel` class. We must implement the `generateAgents` method to describe the initial state of our passive turtle."
   ]
  },
  {
   "cell_type": "code",
   "execution_count": 3,
   "metadata": {},
   "outputs": [
    {
     "data": {
      "text/plain": [
       "No Outputs"
      ]
     },
     "execution_count": 3,
     "metadata": {},
     "output_type": "execute_result"
    }
   ],
   "source": [
    "class PassiveSimulationModel < AbstractLogoSimulationModel\n",
    "  def generateAgents(p, levels)\n",
    "    result =  AgentInitializationData.new\n",
    "    turtle = TurtleFactory::generate(\n",
    "      EmptyPerceptionModel.new,\n",
    "      PassiveTurtleDecisionModel.new,\n",
    "      AgentCategory.new(\"passive\", TurtleAgentCategory::CATEGORY),\n",
    "      p.initialDirection,\n",
    "      p.initialSpeed,\n",
    "      p.initialAcceleration,\n",
    "      p.initialX,\n",
    "      p.initialY\n",
    "    )\n",
    "    result.agents.add(turtle)\n",
    "    return result\n",
    "  end\n",
    "end"
   ]
  },
  {
   "cell_type": "markdown",
   "metadata": {},
   "source": [
    "## Launch the HTML runner\n",
    "\n",
    "We can now instanciate the parameters and the simulation model. Then we launch and configure the HTML runner. Here, only the turtles are displayed. Finally, the probe `LogoRealTimeMatcher` is added to the server to slow down the simulation so that its execution speed matches a specific factor of N steps per second."
   ]
  },
  {
   "cell_type": "code",
   "execution_count": 4,
   "metadata": {},
   "outputs": [
    {
     "data": {
      "text/plain": [
       "No Outputs"
      ]
     },
     "execution_count": 4,
     "metadata": {},
     "output_type": "execute_result"
    }
   ],
   "source": [
    "simulationParameters = PassiveSimulationParameters.new\n",
    "simulationModel = PassiveSimulationModel.new(simulationParameters)\n",
    "runner = Similar2LogoHtmlRunner.new\n",
    "runner.config.setExportAgents(true)\n",
    "runner.initializeRunner(simulationModel)\n",
    "runner.showView\n",
    "runner.addProbe(\"Real time matcher\", LogoRealTimeMatcher.new(20))"
   ]
  },
  {
   "cell_type": "code",
   "execution_count": null,
   "metadata": {},
   "outputs": [],
   "source": []
  }
 ],
 "metadata": {
  "kernelspec": {
   "display_name": "SciJava",
   "language": "groovy",
   "name": "scijava"
  },
  "language_info": {
   "codemirror_mode": "groovy",
   "file_extension": "",
   "mimetype": "",
   "name": "scijava",
   "nbconverter_exporter": "",
   "pygments_lexer": "groovy",
   "version": "1.0"
  }
 },
 "nbformat": 4,
 "nbformat_minor": 2
}
