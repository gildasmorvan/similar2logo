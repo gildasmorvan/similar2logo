{
 "cells": [
  {
   "cell_type": "markdown",
   "metadata": {},
   "source": [
    "# Dealing with marks: the turmite model\n",
    "\n",
    "The [turmite model](https://en.wikipedia.org/wiki/Langton's_ant), developed by [Christopher Langton](https://en.wikipedia.org/wiki/Christopher_Langton) in 1986, is a very simple mono-agent model that exhibits an emergent behavior. It is based on 2 rules:\n",
    "\n",
    "* If the turmite is on a patch that does not contain a mark, it turns right, drops a mark, and moves forward,\n",
    "\n",
    "* If the turmite is on a patch that contains a mark, it turns left, removes the mark, and moves forward."
   ]
  },
  {
   "cell_type": "markdown",
   "metadata": {},
   "source": [
    "## Grab dependencies"
   ]
  },
  {
   "cell_type": "code",
   "execution_count": 1,
   "metadata": {},
   "outputs": [
    {
     "name": "stderr",
     "output_type": "stream",
     "text": [
      "Resolving dependency: fr.univ_artois.lgi2a#similar2logo-lib;1.0-SNAPSHOT {default=[default]}\n",
      "Preparing to download artifact fr.univ_artois.lgi2a#similar2logo-lib;1.0-SNAPSHOT!similar2logo-lib.jar\n",
      "Preparing to download artifact fr.univ_artois.lgi2a#similar2logo-kernel;1.0-SNAPSHOT!similar2logo-kernel.jar\n",
      "Preparing to download artifact com.sparkjava#spark-core;2.7.2!spark-core.jar(bundle)\n",
      "Preparing to download artifact org.slf4j#slf4j-simple;1.7.13!slf4j-simple.jar\n",
      "Preparing to download artifact org.apache.commons#commons-math3;3.6.1!commons-math3.jar\n",
      "Preparing to download artifact fr.univ_artois.lgi2a#similar-microKernel;1.0-SNAPSHOT!similar-microKernel.jar\n",
      "Preparing to download artifact fr.univ_artois.lgi2a#similar-microKernel-commonLibs;1.0-SNAPSHOT!similar-microKernel-commonLibs.jar\n",
      "Preparing to download artifact fr.univ_artois.lgi2a#similar-extendedKernel;1.0-SNAPSHOT!similar-extendedKernel.jar\n",
      "Preparing to download artifact fr.univ_artois.lgi2a#similar-extendedKernel-extendedLibs;1.0-SNAPSHOT!similar-extendedKernel-extendedLibs.jar\n",
      "Preparing to download artifact org.json#json;20170516!json.jar(bundle)\n",
      "Preparing to download artifact net.jafama#jafama;2.3.1!jafama.jar\n",
      "Preparing to download artifact org.slf4j#slf4j-api;1.7.13!slf4j-api.jar\n",
      "Preparing to download artifact org.eclipse.jetty#jetty-server;9.4.8.v20171121!jetty-server.jar\n",
      "Preparing to download artifact org.eclipse.jetty#jetty-webapp;9.4.8.v20171121!jetty-webapp.jar\n",
      "Preparing to download artifact org.eclipse.jetty.websocket#websocket-server;9.4.8.v20171121!websocket-server.jar\n",
      "Preparing to download artifact org.eclipse.jetty.websocket#websocket-servlet;9.4.8.v20171121!websocket-servlet.jar\n",
      "Preparing to download artifact javax.servlet#javax.servlet-api;3.1.0!javax.servlet-api.jar\n",
      "Preparing to download artifact org.eclipse.jetty#jetty-http;9.4.8.v20171121!jetty-http.jar\n",
      "Preparing to download artifact org.eclipse.jetty#jetty-io;9.4.8.v20171121!jetty-io.jar\n",
      "Preparing to download artifact org.eclipse.jetty#jetty-util;9.4.8.v20171121!jetty-util.jar\n",
      "Preparing to download artifact org.eclipse.jetty#jetty-xml;9.4.8.v20171121!jetty-xml.jar\n",
      "Preparing to download artifact org.eclipse.jetty#jetty-servlet;9.4.8.v20171121!jetty-servlet.jar\n",
      "Preparing to download artifact org.eclipse.jetty#jetty-security;9.4.8.v20171121!jetty-security.jar\n",
      "Preparing to download artifact org.eclipse.jetty.websocket#websocket-common;9.4.8.v20171121!websocket-common.jar\n",
      "Preparing to download artifact org.eclipse.jetty.websocket#websocket-client;9.4.8.v20171121!websocket-client.jar\n",
      "Preparing to download artifact org.eclipse.jetty.websocket#websocket-api;9.4.8.v20171121!websocket-api.jar\n",
      "Preparing to download artifact org.eclipse.jetty#jetty-client;9.4.8.v20171121!jetty-client.jar\n"
     ]
    },
    {
     "data": {
      "text/html": [
       "<style>table.converted {color: #333; font-family: Helvetica, Arial, sans-serif; border-collapse: collapse; border-spacing: 0;}table.converted td, table.converted th {border: 1px solid #C9C7C7;}table.converted th, table.converted td.rowLabel {background: #626262; color: #FFFFFF; font-weight: bold; text-align: left;}table.converted td {text-align: left;}table.converted tr:nth-child(even) {background: #F3F3F3;}table.converted tr:nth-child(odd) {background: #FFFFFF;}table.converted tbody tr:hover {background: #BDF4B5;}table.converted td.rowLabel, table.converted th.rowLabel {display: none;}</style><table class=\"converted\"><tbody><tr><td>Java::FrLgi2aSimilar2logoLibToolsHtml::Similar2LogoHtmlRunner</td></tr></tbody></table>"
      ]
     },
     "execution_count": 1,
     "metadata": {},
     "output_type": "execute_result"
    }
   ],
   "source": [
    "#!ruby\n",
    "#@repository(\"~/.m2/repository/\")\n",
    "#@dependency(group=\"fr.univ-artois.lgi2a\", module=\"similar2logo-lib\", version=\"1.0-SNAPSHOT\")\n",
    "\n",
    "java_import 'java.lang.Double'\n",
    "java_import 'java.awt.geom.Point2D'\n",
    "java_import 'fr.univ_artois.lgi2a.similar.extendedkernel.libs.abstractimpl.AbstractAgtDecisionModel'\n",
    "java_import 'fr.univ_artois.lgi2a.similar.extendedkernel.simulationmodel.ISimulationParameters'\n",
    "java_import 'fr.univ_artois.lgi2a.similar.microkernel.AgentCategory'\n",
    "java_import 'fr.univ_artois.lgi2a.similar.microkernel.LevelIdentifier'\n",
    "java_import 'fr.univ_artois.lgi2a.similar.microkernel.SimulationTimeStamp'\n",
    "java_import 'fr.univ_artois.lgi2a.similar.microkernel.agents.IAgent4Engine'\n",
    "java_import 'fr.univ_artois.lgi2a.similar.microkernel.agents.IGlobalState'\n",
    "java_import 'fr.univ_artois.lgi2a.similar.microkernel.agents.ILocalStateOfAgent'\n",
    "java_import 'fr.univ_artois.lgi2a.similar.microkernel.agents.IPerceivedData'\n",
    "java_import 'fr.univ_artois.lgi2a.similar.microkernel.influences.InfluencesMap'\n",
    "java_import 'fr.univ_artois.lgi2a.similar.microkernel.levels.ILevel'\n",
    "java_import 'fr.univ_artois.lgi2a.similar2logo.kernel.initializations.AbstractLogoSimulationModel'\n",
    "java_import 'fr.univ_artois.lgi2a.similar2logo.kernel.model.LogoSimulationParameters'\n",
    "java_import 'fr.univ_artois.lgi2a.similar2logo.kernel.model.agents.turtle.TurtleAgentCategory'\n",
    "java_import 'fr.univ_artois.lgi2a.similar2logo.kernel.model.agents.turtle.TurtleFactory'\n",
    "java_import 'fr.univ_artois.lgi2a.similar2logo.kernel.model.environment.LogoEnvPLS'\n",
    "java_import 'fr.univ_artois.lgi2a.similar2logo.kernel.model.environment.Mark'\n",
    "java_import 'fr.univ_artois.lgi2a.similar2logo.kernel.model.influences.ChangeDirection'\n",
    "java_import 'fr.univ_artois.lgi2a.similar2logo.kernel.model.influences.DropMark'\n",
    "java_import 'fr.univ_artois.lgi2a.similar2logo.kernel.model.influences.RemoveMark'\n",
    "java_import 'fr.univ_artois.lgi2a.similar2logo.kernel.model.levels.LogoSimulationLevelList'\n",
    "java_import 'fr.univ_artois.lgi2a.similar2logo.lib.model.ConeBasedPerceptionModel'\n",
    "java_import 'fr.univ_artois.lgi2a.similar2logo.lib.probes.LogoRealTimeMatcher'\n",
    "java_import 'fr.univ_artois.lgi2a.similar2logo.lib.tools.html.Similar2LogoHtmlRunner'"
   ]
  },
  {
   "cell_type": "markdown",
   "metadata": {},
   "source": [
    "## The decision model\n",
    "\n",
    "The decision model implements the above described rules :"
   ]
  },
  {
   "cell_type": "code",
   "execution_count": 2,
   "metadata": {},
   "outputs": [
    {
     "data": {
      "text/plain": [
       "No Outputs"
      ]
     },
     "execution_count": 2,
     "metadata": {},
     "output_type": "execute_result"
    }
   ],
   "source": [
    "class TurmiteDecisionModel < AbstractAgtDecisionModel\n",
    "  \n",
    "  def initialize\n",
    "    super(LogoSimulationLevelList::LOGO)\n",
    "  end\n",
    "  \n",
    "  def decide(\n",
    "      timeLowerBound,\n",
    "      timeUpperBound,\n",
    "      globalState,\n",
    "      publicLocalState,\n",
    "      privateLocalState,\n",
    "      perceivedData,\n",
    "      producedInfluences\n",
    "    )\n",
    "    if perceivedData.getMarks.empty?\n",
    "      producedInfluences.add(\n",
    "        ChangeDirection.new(\n",
    "          timeLowerBound,\n",
    "          timeUpperBound,\n",
    "          Math::PI/2,\n",
    "          publicLocalState\n",
    "        )\n",
    "      )\n",
    "      producedInfluences.add(\n",
    "        DropMark.new(\n",
    "          timeLowerBound,\n",
    "          timeUpperBound,\n",
    "          Mark.new(\n",
    "            publicLocalState.getLocation.clone,\n",
    "            nil\n",
    "          )\n",
    "        )\n",
    "      )\n",
    "    else\n",
    "      producedInfluences.add(\n",
    "        ChangeDirection.new(\n",
    "          timeLowerBound,\n",
    "          timeUpperBound,\n",
    "          -Math::PI/2,\n",
    "          publicLocalState\n",
    "        )\n",
    "      )\n",
    "      producedInfluences.add(\n",
    "        RemoveMark.new(\n",
    "          timeLowerBound,\n",
    "          timeUpperBound,\n",
    "          perceivedData.getMarks.iterator.next.getContent\n",
    "        )\n",
    "      )\n",
    "    end\n",
    "  end\n",
    "end"
   ]
  },
  {
   "cell_type": "markdown",
   "metadata": {},
   "source": [
    "## The simulation model\n",
    "\n",
    "The simulation model generates a turmite heading north at the location 10.5,10.5 with a speed of 1 and an acceleration of 0:\n"
   ]
  },
  {
   "cell_type": "code",
   "execution_count": 3,
   "metadata": {},
   "outputs": [
    {
     "data": {
      "text/plain": [
       "No Outputs"
      ]
     },
     "execution_count": 3,
     "metadata": {},
     "output_type": "execute_result"
    }
   ],
   "source": [
    "class TurmiteSimulationModel < AbstractLogoSimulationModel\n",
    "  def generateAgents(p, levels)\n",
    "      result =  AgentInitializationData.new\n",
    "      turtle = TurtleFactory::generate(\n",
    "        ConeBasedPerceptionModel.new(0, 2*Math::PI, false, true, false),\n",
    "        TurmiteDecisionModel.new,\n",
    "        AgentCategory.new(\"turmite\", TurtleAgentCategory::CATEGORY),\n",
    "        LogoEnvPLS::NORTH,\n",
    "        1,\n",
    "        0,\n",
    "        10.5,\n",
    "        10.5\n",
    "      )\n",
    "      result.agents.add(turtle)\n",
    "      return result\n",
    "    end\n",
    "end"
   ]
  },
  {
   "cell_type": "markdown",
   "metadata": {},
   "source": [
    "## Launch the HTML runner\n",
    "\n",
    "In this case we want to observe turtles and marks."
   ]
  },
  {
   "cell_type": "code",
   "execution_count": 5,
   "metadata": {},
   "outputs": [
    {
     "data": {
      "text/plain": [
       "No Outputs"
      ]
     },
     "execution_count": 5,
     "metadata": {},
     "output_type": "execute_result"
    }
   ],
   "source": [
    "runner = Similar2LogoHtmlRunner.new\n",
    "runner.config.setExportAgents(true)\n",
    "runner.config.setExportMarks( true )\n",
    "runner.initializeRunner(TurmiteSimulationModel.new(LogoSimulationParameters.new))\n",
    "runner.showView\n",
    "runner.addProbe(\"Real time matcher\", LogoRealTimeMatcher.new(20))"
   ]
  }
 ],
 "metadata": {
  "kernelspec": {
   "display_name": "SciJava",
   "language": "groovy",
   "name": "scijava"
  },
  "language_info": {
   "codemirror_mode": "groovy",
   "file_extension": "",
   "mimetype": "",
   "name": "scijava",
   "nbconverter_exporter": "",
   "pygments_lexer": "groovy",
   "version": "1.0"
  }
 },
 "nbformat": 4,
 "nbformat_minor": 2
}
